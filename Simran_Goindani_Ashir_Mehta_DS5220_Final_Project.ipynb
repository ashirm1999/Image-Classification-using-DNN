{
  "nbformat": 4,
  "nbformat_minor": 0,
  "metadata": {
    "colab": {
      "name": "Simran_Goindani_Ashir_Mehta_DS5220_Final_Project.ipynb",
      "provenance": [],
      "collapsed_sections": [],
      "include_colab_link": true
    },
    "kernelspec": {
      "name": "python3",
      "display_name": "Python 3"
    },
    "language_info": {
      "name": "python"
    },
    "accelerator": "GPU"
  },
  "cells": [
    {
      "cell_type": "markdown",
      "metadata": {
        "id": "view-in-github",
        "colab_type": "text"
      },
      "source": [
        "<a href=\"https://colab.research.google.com/github/ashirm1999/SML-Project/blob/main/Simran_Goindani_Ashir_Mehta_DS5220_Final_Project.ipynb\" target=\"_parent\"><img src=\"https://colab.research.google.com/assets/colab-badge.svg\" alt=\"Open In Colab\"/></a>"
      ]
    },
    {
      "cell_type": "markdown",
      "source": [
        "## Importing Libraries"
      ],
      "metadata": {
        "id": "bkPhc4SKCl3r"
      }
    },
    {
      "cell_type": "code",
      "execution_count": null,
      "metadata": {
        "id": "NKuFdKfNIf-H"
      },
      "outputs": [],
      "source": [
        "import keras\n",
        "from keras.datasets import cifar10\n",
        "from sklearn.model_selection import KFold\n",
        "from sklearn.model_selection import train_test_split as train_test_split\n",
        "from sklearn.preprocessing import StandardScaler, MinMaxScaler\n",
        "import sklearn.metrics as skm\n",
        "from sklearn import svm\n",
        "import os, time\n",
        "import matplotlib.pyplot as plt\n",
        "import numpy as np\n",
        "import time\n",
        "import pandas as pd"
      ]
    },
    {
      "cell_type": "markdown",
      "source": [
        "## Model Development"
      ],
      "metadata": {
        "id": "joJZqeNrDVII"
      }
    },
    {
      "cell_type": "markdown",
      "source": [
        "### SVM with different Kernel"
      ],
      "metadata": {
        "id": "s1hIlfmZDY9L"
      }
    },
    {
      "cell_type": "markdown",
      "source": [
        "#### Loading Data"
      ],
      "metadata": {
        "id": "wl6ZnlrnCpqY"
      }
    },
    {
      "cell_type": "code",
      "source": [
        "classesName = ['plane', 'car', 'bird', 'cat', 'deer', 'dog', 'frog', 'horse', 'ship', 'truck']"
      ],
      "metadata": {
        "id": "jqOscIsDC3Kb"
      },
      "execution_count": null,
      "outputs": []
    },
    {
      "cell_type": "code",
      "source": [
        "#Loading the dataset\n",
        "(x_train, y_train), (x_test, y_test) = cifar10.load_data()\n",
        "#Splitting the data into validation\n",
        "x_val = x_train[49000:, :].astype(np.float)\n",
        "#Converting target variable to 1d array\n",
        "y_val = np.squeeze(y_train[49000:, :])\n",
        "x_train = x_train[:49000, :].astype(np.float)\n",
        "y_train = np.squeeze(y_train[:49000, :])\n",
        "y_test = np.squeeze(y_test)\n",
        "x_test = x_test.astype(np.float)"
      ],
      "metadata": {
        "colab": {
          "base_uri": "https://localhost:8080/"
        },
        "id": "gNwcCTGiCvU4",
        "outputId": "0fa0b621-28f6-4250-8535-402a3b06ad05"
      },
      "execution_count": null,
      "outputs": [
        {
          "output_type": "stream",
          "name": "stdout",
          "text": [
            "Downloading data from https://www.cs.toronto.edu/~kriz/cifar-10-python.tar.gz\n",
            "170500096/170498071 [==============================] - 3s 0us/step\n",
            "170508288/170498071 [==============================] - 3s 0us/step\n"
          ]
        },
        {
          "output_type": "stream",
          "name": "stderr",
          "text": [
            "/usr/local/lib/python3.7/dist-packages/ipykernel_launcher.py:4: DeprecationWarning: `np.float` is a deprecated alias for the builtin `float`. To silence this warning, use `float` by itself. Doing this will not modify any behavior and is safe. If you specifically wanted the numpy scalar type, use `np.float64` here.\n",
            "Deprecated in NumPy 1.20; for more details and guidance: https://numpy.org/devdocs/release/1.20.0-notes.html#deprecations\n",
            "  after removing the cwd from sys.path.\n",
            "/usr/local/lib/python3.7/dist-packages/ipykernel_launcher.py:7: DeprecationWarning: `np.float` is a deprecated alias for the builtin `float`. To silence this warning, use `float` by itself. Doing this will not modify any behavior and is safe. If you specifically wanted the numpy scalar type, use `np.float64` here.\n",
            "Deprecated in NumPy 1.20; for more details and guidance: https://numpy.org/devdocs/release/1.20.0-notes.html#deprecations\n",
            "  import sys\n",
            "/usr/local/lib/python3.7/dist-packages/ipykernel_launcher.py:10: DeprecationWarning: `np.float` is a deprecated alias for the builtin `float`. To silence this warning, use `float` by itself. Doing this will not modify any behavior and is safe. If you specifically wanted the numpy scalar type, use `np.float64` here.\n",
            "Deprecated in NumPy 1.20; for more details and guidance: https://numpy.org/devdocs/release/1.20.0-notes.html#deprecations\n",
            "  # Remove the CWD from sys.path while we load stuff.\n"
          ]
        }
      ]
    },
    {
      "cell_type": "code",
      "source": [
        "print(\"Train image shape \" , x_train.shape)\n",
        "print(\"Train label shape :\", y_train.shape)\n",
        "print(\"Validate image shape :\", x_val.shape)\n",
        "print(\"Validate label shape : \", y_val.shape)\n",
        "print(\"Test image shape : \", x_test.shape)\n",
        "print(\"Test label shape : \", y_test.shape)"
      ],
      "metadata": {
        "colab": {
          "base_uri": "https://localhost:8080/"
        },
        "id": "2RmOCOj6DR5n",
        "outputId": "de6c8975-2f3d-4e4c-b15c-fd85fe1c0979"
      },
      "execution_count": null,
      "outputs": [
        {
          "output_type": "stream",
          "name": "stdout",
          "text": [
            "Train image shape  (49000, 32, 32, 3)\n",
            "Train label shape : (49000,)\n",
            "Validate image shape : (1000, 32, 32, 3)\n",
            "Validate label shape :  (1000,)\n",
            "Test image shape :  (10000, 32, 32, 3)\n",
            "Test label shape :  (10000,)\n"
          ]
        }
      ]
    },
    {
      "cell_type": "markdown",
      "source": [
        "#### Reshaping and Normalizing Data"
      ],
      "metadata": {
        "id": "Wdh4Nsb0E32z"
      }
    },
    {
      "cell_type": "code",
      "source": [
        "print(x_train.shape)\n",
        "print(y_train.shape)\n",
        "\n",
        "x_train = np.reshape(x_train, (x_train.shape[0], -1)) \n",
        "x_val = np.reshape(x_val, (x_val.shape[0], -1))\n",
        "x_test = np.reshape(x_test, (x_test.shape[0], -1))\n",
        "\n",
        "#Normalizing the data\n",
        "x_train = ((x_train / 255) * 2) - 1 "
      ],
      "metadata": {
        "colab": {
          "base_uri": "https://localhost:8080/"
        },
        "id": "aeeewXzdE1-S",
        "outputId": "bf3d808a-e773-4697-9db2-a4cbe962684d"
      },
      "execution_count": null,
      "outputs": [
        {
          "output_type": "stream",
          "name": "stdout",
          "text": [
            "(49000, 32, 32, 3)\n",
            "(49000,)\n"
          ]
        }
      ]
    },
    {
      "cell_type": "code",
      "source": [
        "#Selecting a smaller subset of data to train\n",
        "x_train = x_train[:3000,:]\n",
        "y_train = y_train[:3000]\n",
        "print(y_train)\n",
        "print(x_train.shape)\n",
        "print(y_train.shape)"
      ],
      "metadata": {
        "colab": {
          "base_uri": "https://localhost:8080/"
        },
        "id": "NDYx9U8hFS2J",
        "outputId": "efef8c8f-fc65-4e4d-82f3-7c22f551415a"
      },
      "execution_count": null,
      "outputs": [
        {
          "output_type": "stream",
          "name": "stdout",
          "text": [
            "[6 9 9 ... 6 6 4]\n",
            "(3000, 3072)\n",
            "(3000,)\n"
          ]
        }
      ]
    },
    {
      "cell_type": "markdown",
      "source": [
        "#### SVM Model"
      ],
      "metadata": {
        "id": "2efuoD4wTvLF"
      }
    },
    {
      "cell_type": "code",
      "source": [
        "#Created a function that takes model and test data as input and returns the test accuracy\n",
        "def svm_models_acc(model, x_test, y_test):\n",
        "  \n",
        "  return np.mean(model.predict(x_test) == y_test)"
      ],
      "metadata": {
        "id": "BaaH9bZZdaTl"
      },
      "execution_count": null,
      "outputs": []
    },
    {
      "cell_type": "code",
      "source": [
        "# Created a common SVM model for all the types of kernel and without kernel\n",
        "def svm_models(x_train, y_train, x_val, y_val, x_test, y_test, kernel, c):\n",
        "  train_acc, val_acc = [], []\n",
        "  temp_df = pd.DataFrame()\n",
        "\n",
        "  #Checking if kernel is rbf and then creating a model with an additional parameter gamma for kernel = rbf\n",
        "  if kernel == \"rbf\":\n",
        "    #Fitting the model for different values of regularization parameter\n",
        "    for i in c:\n",
        "      svm_model = svm.SVC(probability = False, kernel = kernel, C = i, gamma = 'auto')\n",
        "      svm_model.fit(x_train, y_train)\n",
        "\n",
        "      ypred_train = svm_model.predict(x_train)\n",
        "      acc_train = np.mean(ypred_train == y_train)\n",
        "      train_acc.append(acc_train * 100)\n",
        "\n",
        "      ypred_test = svm_model.predict(x_val)\n",
        "      acc_test = np.mean(ypred_test == y_val)\n",
        "      val_acc.append(acc_test * 100)\n",
        "\n",
        "      #When regularization parameter is 1 the model achieves best accuracy and it does not overfit so storing the test accuracy when C = 1\n",
        "      if i == 1:\n",
        "        test_acc = svm_models_acc(svm_model, x_test, y_test)\n",
        "\n",
        "    temp_df['Regularization Parameter'] = c\n",
        "    temp_df['Training Accuracy'] = train_acc\n",
        "    temp_df['Validation Accuracy'] = val_acc\n",
        "        \n",
        "    plt.plot(c, train_acc,'.-',color = 'red')\n",
        "    plt.plot(c, val_acc,'.-',color = 'orange')\n",
        "    plt.xlabel('c')\n",
        "    plt.ylabel('Accuracy')\n",
        "    plt.title(\"Accuracy vs c for training and test data with \" + str(kernel) + \" kernel\")\n",
        "    plt.legend([\"train\", \"val\"])\n",
        "    plt.grid()\n",
        "    plt.show()\n",
        "\n",
        "    return test_acc, temp_df\n",
        "\n",
        "  #Checking if the argument is given no kernel then creating a svm model without a kernel\n",
        "  elif kernel == 'No kernel':\n",
        "    #Fitting the model for different values of regularization parameter\n",
        "    for i in c:\n",
        "      svm_model = svm.SVC(probability = False, C = i)\n",
        "      svm_model.fit(x_train, y_train)\n",
        "\n",
        "      ypred_train = svm_model.predict(x_train)\n",
        "      acc_train = np.mean(ypred_train == y_train)\n",
        "      train_acc.append(acc_train * 100)\n",
        "\n",
        "      ypred_test = svm_model.predict(x_val)\n",
        "      acc_test = np.mean(ypred_test == y_val)\n",
        "      val_acc.append(acc_test * 100)\n",
        "\n",
        "      #When regularization parameter is 1 the model achieves best accuracy and it does not overfit so storing the test accuracy when C = 1\n",
        "      if i == 1:\n",
        "        test_acc = svm_models_acc(svm_model, x_test, y_test)\n",
        "\n",
        "    temp_df['Regularization Parameter'] = c\n",
        "    temp_df['Training Accuracy'] = train_acc\n",
        "    temp_df['Validation Accuracy'] = val_acc\n",
        "\n",
        "    plt.plot(c, train_acc,'.-',color = 'red')\n",
        "    plt.plot(c, val_acc,'.-',color = 'orange')\n",
        "    plt.xlabel('c')\n",
        "    plt.ylabel('Accuracy')\n",
        "    plt.title(\"Accuracy vs c for training and test data without kernel\")\n",
        "    plt.legend([\"train\", \"val\"])\n",
        "    plt.grid()\n",
        "    plt.show()\n",
        "\n",
        "    return test_acc, temp_df\n",
        "\n",
        "  #If the kernel is linear or poly then defining the same model with different kernel that is passed as parameters in the function.\n",
        "  else:\n",
        "    #Fitting the model for different values of regularization parameter\n",
        "    for i in c:\n",
        "      svm_model = svm.SVC(probability = False, kernel = kernel, C = i)\n",
        "      svm_model.fit(x_train, y_train)\n",
        "\n",
        "      ypred_train = svm_model.predict(x_train)\n",
        "      acc_train = np.mean(ypred_train == y_train)\n",
        "      train_acc.append(acc_train * 100)\n",
        "\n",
        "      ypred_test = svm_model.predict(x_val)\n",
        "      acc_test = np.mean(ypred_test == y_val)\n",
        "      val_acc.append(acc_test * 100)\n",
        "\n",
        "      #When regularization parameter is 1 the model achieves best accuracy and it does not overfit so storing the test accuracy when C = 1\n",
        "      if i == 1:\n",
        "        test_acc = svm_models_acc(svm_model, x_test, y_test)\n",
        "\n",
        "    temp_df['Regularization Parameter'] = c\n",
        "    temp_df['Training Accuracy'] = train_acc\n",
        "    temp_df['Validation Accuracy'] = val_acc\n",
        "\n",
        "    plt.plot(c, train_acc, '.-', color = 'red')\n",
        "    plt.plot(c, val_acc, '.-', color = 'orange')\n",
        "    plt.xlabel('c')\n",
        "    plt.ylabel('Accuracy')\n",
        "    plt.title(\"Accuracy vs c for training and test data with \" + str(kernel) + \" kernel\")\n",
        "    plt.legend([\"train\", \"val\"])\n",
        "    plt.grid()\n",
        "    plt.show()\n",
        "\n",
        "    return test_acc, temp_df"
      ],
      "metadata": {
        "id": "b723fWdqFS0D"
      },
      "execution_count": null,
      "outputs": []
    },
    {
      "cell_type": "markdown",
      "source": [
        "#### Model - 1 SVM without Kernel"
      ],
      "metadata": {
        "id": "RrjlYRxDIoqa"
      }
    },
    {
      "cell_type": "code",
      "source": [
        "c_svm = [0.0001, 0.001, 0.01, 0.1, 1, 10, 100]\n",
        "#Calling the svm model function with No kernel as a parameter to create a simple svm model\n",
        "test_acc_svm, temp_df = svm_models(x_train, y_train, x_val, y_val, x_test, y_test, 'No kernel', c_svm)"
      ],
      "metadata": {
        "colab": {
          "base_uri": "https://localhost:8080/",
          "height": 295
        },
        "id": "o9VK6LNiInRh",
        "outputId": "688fc3d4-db8b-42bd-dabb-db5e8deda9f7"
      },
      "execution_count": null,
      "outputs": [
        {
          "output_type": "display_data",
          "data": {
            "text/plain": [
              "<Figure size 432x288 with 1 Axes>"
            ],
            "image/png": "[encoded data removed]"
          },
          "metadata": {
            "needs_background": "light"
          }
        }
      ]
    },
    {
      "cell_type": "code",
      "source": [
        "#Printing the train and validation accuracy for different values of c\n",
        "temp_df"
      ],
      "metadata": {
        "colab": {
          "base_uri": "https://localhost:8080/",
          "height": 269
        },
        "id": "U3MCwhCXY5vX",
        "outputId": "182b4034-4936-468a-8059-dba3edbf60f4"
      },
      "execution_count": null,
      "outputs": [
        {
          "output_type": "execute_result",
          "data": {
            "text/plain": [
              "   Regularization Parameter  Training Accuracy  Validation Accuracy\n",
              "0                    0.0001          10.733333                  7.9\n",
              "1                    0.0010          10.733333                  7.9\n",
              "2                    0.0100          10.733333                  7.9\n",
              "3                    0.1000          38.200000                 11.9\n",
              "4                    1.0000          73.333333                 11.9\n",
              "5                   10.0000          99.933333                 11.9\n",
              "6                  100.0000         100.000000                 11.9"
            ],
            "text/html": [
              "\n",
              "  <div id=\"df-1ec5e988-d8ad-4516-89cb-af769810e7a0\">\n",
              "    <div class=\"colab-df-container\">\n",
              "      <div>\n",
              "<style scoped>\n",
              "    .dataframe tbody tr th:only-of-type {\n",
              "        vertical-align: middle;\n",
              "    }\n",
              "\n",
              "    .dataframe tbody tr th {\n",
              "        vertical-align: top;\n",
              "    }\n",
              "\n",
              "    .dataframe thead th {\n",
              "        text-align: right;\n",
              "    }\n",
              "</style>\n",
              "<table border=\"1\" class=\"dataframe\">\n",
              "  <thead>\n",
              "    <tr style=\"text-align: right;\">\n",
              "      <th></th>\n",
              "      <th>Regularization Parameter</th>\n",
              "      <th>Training Accuracy</th>\n",
              "      <th>Validation Accuracy</th>\n",
              "    </tr>\n",
              "  </thead>\n",
              "  <tbody>\n",
              "    <tr>\n",
              "      <th>0</th>\n",
              "      <td>0.0001</td>\n",
              "      <td>10.733333</td>\n",
              "      <td>7.9</td>\n",
              "    </tr>\n",
              "    <tr>\n",
              "      <th>1</th>\n",
              "      <td>0.0010</td>\n",
              "      <td>10.733333</td>\n",
              "      <td>7.9</td>\n",
              "    </tr>\n",
              "    <tr>\n",
              "      <th>2</th>\n",
              "      <td>0.0100</td>\n",
              "      <td>10.733333</td>\n",
              "      <td>7.9</td>\n",
              "    </tr>\n",
              "    <tr>\n",
              "      <th>3</th>\n",
              "      <td>0.1000</td>\n",
              "      <td>38.200000</td>\n",
              "      <td>11.9</td>\n",
              "    </tr>\n",
              "    <tr>\n",
              "      <th>4</th>\n",
              "      <td>1.0000</td>\n",
              "      <td>73.333333</td>\n",
              "      <td>11.9</td>\n",
              "    </tr>\n",
              "    <tr>\n",
              "      <th>5</th>\n",
              "      <td>10.0000</td>\n",
              "      <td>99.933333</td>\n",
              "      <td>11.9</td>\n",
              "    </tr>\n",
              "    <tr>\n",
              "      <th>6</th>\n",
              "      <td>100.0000</td>\n",
              "      <td>100.000000</td>\n",
              "      <td>11.9</td>\n",
              "    </tr>\n",
              "  </tbody>\n",
              "</table>\n",
              "</div>\n",
              "      <button class=\"colab-df-convert\" onclick=\"convertToInteractive('df-1ec5e988-d8ad-4516-89cb-af769810e7a0')\"\n",
              "              title=\"Convert this dataframe to an interactive table.\"\n",
              "              style=\"display:none;\">\n",
              "        \n",
              "  <svg xmlns=\"http://www.w3.org/2000/svg\" height=\"24px\"viewBox=\"0 0 24 24\"\n",
              "       width=\"24px\">\n",
              "    <path d=\"M0 0h24v24H0V0z\" fill=\"none\"/>\n",
              "    <path d=\"M18.56 5.44l.94 2.06.94-2.06 2.06-.94-2.06-.94-.94-2.06-.94 2.06-2.06.94zm-11 1L8.5 8.5l.94-2.06 2.06-.94-2.06-.94L8.5 2.5l-.94 2.06-2.06.94zm10 10l.94 2.06.94-2.06 2.06-.94-2.06-.94-.94-2.06-.94 2.06-2.06.94z\"/><path d=\"M17.41 7.96l-1.37-1.37c-.4-.4-.92-.59-1.43-.59-.52 0-1.04.2-1.43.59L10.3 9.45l-7.72 7.72c-.78.78-.78 2.05 0 2.83L4 21.41c.39.39.9.59 1.41.59.51 0 1.02-.2 1.41-.59l7.78-7.78 2.81-2.81c.8-.78.8-2.07 0-2.86zM5.41 20L4 18.59l7.72-7.72 1.47 1.35L5.41 20z\"/>\n",
              "  </svg>\n",
              "      </button>\n",
              "      \n",
              "  <style>\n",
              "    .colab-df-container {\n",
              "      display:flex;\n",
              "      flex-wrap:wrap;\n",
              "      gap: 12px;\n",
              "    }\n",
              "\n",
              "    .colab-df-convert {\n",
              "      background-color: #E8F0FE;\n",
              "      border: none;\n",
              "      border-radius: 50%;\n",
              "      cursor: pointer;\n",
              "      display: none;\n",
              "      fill: #1967D2;\n",
              "      height: 32px;\n",
              "      padding: 0 0 0 0;\n",
              "      width: 32px;\n",
              "    }\n",
              "\n",
              "    .colab-df-convert:hover {\n",
              "      background-color: #E2EBFA;\n",
              "      box-shadow: 0px 1px 2px rgba(60, 64, 67, 0.3), 0px 1px 3px 1px rgba(60, 64, 67, 0.15);\n",
              "      fill: #174EA6;\n",
              "    }\n",
              "\n",
              "    [theme=dark] .colab-df-convert {\n",
              "      background-color: #3B4455;\n",
              "      fill: #D2E3FC;\n",
              "    }\n",
              "\n",
              "    [theme=dark] .colab-df-convert:hover {\n",
              "      background-color: #434B5C;\n",
              "      box-shadow: 0px 1px 3px 1px rgba(0, 0, 0, 0.15);\n",
              "      filter: drop-shadow(0px 1px 2px rgba(0, 0, 0, 0.3));\n",
              "      fill: #FFFFFF;\n",
              "    }\n",
              "  </style>\n",
              "\n",
              "      <script>\n",
              "        const buttonEl =\n",
              "          document.querySelector('#df-1ec5e988-d8ad-4516-89cb-af769810e7a0 button.colab-df-convert');\n",
              "        buttonEl.style.display =\n",
              "          google.colab.kernel.accessAllowed ? 'block' : 'none';\n",
              "\n",
              "        async function convertToInteractive(key) {\n",
              "          const element = document.querySelector('#df-1ec5e988-d8ad-4516-89cb-af769810e7a0');\n",
              "          const dataTable =\n",
              "            await google.colab.kernel.invokeFunction('convertToInteractive',\n",
              "                                                     [key], {});\n",
              "          if (!dataTable) return;\n",
              "\n",
              "          const docLinkHtml = 'Like what you see? Visit the ' +\n",
              "            '<a target=\"_blank\" href=https://colab.research.google.com/notebooks/data_table.ipynb>data table notebook</a>'\n",
              "            + ' to learn more about interactive tables.';\n",
              "          element.innerHTML = '';\n",
              "          dataTable['output_type'] = 'display_data';\n",
              "          await google.colab.output.renderOutput(dataTable, element);\n",
              "          const docLink = document.createElement('div');\n",
              "          docLink.innerHTML = docLinkHtml;\n",
              "          element.appendChild(docLink);\n",
              "        }\n",
              "      </script>\n",
              "    </div>\n",
              "  </div>\n",
              "  "
            ]
          },
          "metadata": {},
          "execution_count": 10
        }
      ]
    },
    {
      "cell_type": "markdown",
      "source": [
        "#### Model - 2 SVM with Linear Kernel"
      ],
      "metadata": {
        "id": "UfToz6YhTyob"
      }
    },
    {
      "cell_type": "code",
      "source": [
        "c_svm_linear = [0.0001, 0.001, 0.01, 0.1, 1, 10, 100]\n",
        "#Calling the svm model function and passing linear as parameter to create an svm model with linear kernel and passing various regularization parameter.\n",
        "test_acc_linear, temp_df = svm_models(x_train, y_train, x_val, y_val, x_test, y_test, 'linear', c_svm_linear)"
      ],
      "metadata": {
        "colab": {
          "base_uri": "https://localhost:8080/",
          "height": 295
        },
        "id": "qKHRZX-dFSpZ",
        "outputId": "45916e78-cf6f-4df7-859d-f3cadf3407b9"
      },
      "execution_count": null,
      "outputs": [
        {
          "output_type": "display_data",
          "data": {
            "text/plain": [
              "<Figure size 432x288 with 1 Axes>"
            ],
            "image/png": "[encoded data removed]"
          },
          "metadata": {
            "needs_background": "light"
          }
        }
      ]
    },
    {
      "cell_type": "code",
      "source": [
        "#Printing the train and validation accuracy for different values of c\n",
        "temp_df"
      ],
      "metadata": {
        "colab": {
          "base_uri": "https://localhost:8080/",
          "height": 269
        },
        "id": "GEQBcnJchXx-",
        "outputId": "6cf8acd4-d928-4ff5-e9c1-73b7e79e2784"
      },
      "execution_count": null,
      "outputs": [
        {
          "output_type": "execute_result",
          "data": {
            "text/plain": [
              "   Regularization Parameter  Training Accuracy  Validation Accuracy\n",
              "0                    0.0001          35.466667                  9.8\n",
              "1                    0.0010          48.466667                 18.8\n",
              "2                    0.0100          70.933333                 25.3\n",
              "3                    0.1000          98.966667                 28.6\n",
              "4                    1.0000         100.000000                 27.9\n",
              "5                   10.0000         100.000000                 27.9\n",
              "6                  100.0000         100.000000                 27.9"
            ],
            "text/html": [
              "\n",
              "  <div id=\"df-ceb42dea-8289-473a-be6f-265f921c732c\">\n",
              "    <div class=\"colab-df-container\">\n",
              "      <div>\n",
              "<style scoped>\n",
              "    .dataframe tbody tr th:only-of-type {\n",
              "        vertical-align: middle;\n",
              "    }\n",
              "\n",
              "    .dataframe tbody tr th {\n",
              "        vertical-align: top;\n",
              "    }\n",
              "\n",
              "    .dataframe thead th {\n",
              "        text-align: right;\n",
              "    }\n",
              "</style>\n",
              "<table border=\"1\" class=\"dataframe\">\n",
              "  <thead>\n",
              "    <tr style=\"text-align: right;\">\n",
              "      <th></th>\n",
              "      <th>Regularization Parameter</th>\n",
              "      <th>Training Accuracy</th>\n",
              "      <th>Validation Accuracy</th>\n",
              "    </tr>\n",
              "  </thead>\n",
              "  <tbody>\n",
              "    <tr>\n",
              "      <th>0</th>\n",
              "      <td>0.0001</td>\n",
              "      <td>35.466667</td>\n",
              "      <td>9.8</td>\n",
              "    </tr>\n",
              "    <tr>\n",
              "      <th>1</th>\n",
              "      <td>0.0010</td>\n",
              "      <td>48.466667</td>\n",
              "      <td>18.8</td>\n",
              "    </tr>\n",
              "    <tr>\n",
              "      <th>2</th>\n",
              "      <td>0.0100</td>\n",
              "      <td>70.933333</td>\n",
              "      <td>25.3</td>\n",
              "    </tr>\n",
              "    <tr>\n",
              "      <th>3</th>\n",
              "      <td>0.1000</td>\n",
              "      <td>98.966667</td>\n",
              "      <td>28.6</td>\n",
              "    </tr>\n",
              "    <tr>\n",
              "      <th>4</th>\n",
              "      <td>1.0000</td>\n",
              "      <td>100.000000</td>\n",
              "      <td>27.9</td>\n",
              "    </tr>\n",
              "    <tr>\n",
              "      <th>5</th>\n",
              "      <td>10.0000</td>\n",
              "      <td>100.000000</td>\n",
              "      <td>27.9</td>\n",
              "    </tr>\n",
              "    <tr>\n",
              "      <th>6</th>\n",
              "      <td>100.0000</td>\n",
              "      <td>100.000000</td>\n",
              "      <td>27.9</td>\n",
              "    </tr>\n",
              "  </tbody>\n",
              "</table>\n",
              "</div>\n",
              "      <button class=\"colab-df-convert\" onclick=\"convertToInteractive('df-ceb42dea-8289-473a-be6f-265f921c732c')\"\n",
              "              title=\"Convert this dataframe to an interactive table.\"\n",
              "              style=\"display:none;\">\n",
              "        \n",
              "  <svg xmlns=\"http://www.w3.org/2000/svg\" height=\"24px\"viewBox=\"0 0 24 24\"\n",
              "       width=\"24px\">\n",
              "    <path d=\"M0 0h24v24H0V0z\" fill=\"none\"/>\n",
              "    <path d=\"M18.56 5.44l.94 2.06.94-2.06 2.06-.94-2.06-.94-.94-2.06-.94 2.06-2.06.94zm-11 1L8.5 8.5l.94-2.06 2.06-.94-2.06-.94L8.5 2.5l-.94 2.06-2.06.94zm10 10l.94 2.06.94-2.06 2.06-.94-2.06-.94-.94-2.06-.94 2.06-2.06.94z\"/><path d=\"M17.41 7.96l-1.37-1.37c-.4-.4-.92-.59-1.43-.59-.52 0-1.04.2-1.43.59L10.3 9.45l-7.72 7.72c-.78.78-.78 2.05 0 2.83L4 21.41c.39.39.9.59 1.41.59.51 0 1.02-.2 1.41-.59l7.78-7.78 2.81-2.81c.8-.78.8-2.07 0-2.86zM5.41 20L4 18.59l7.72-7.72 1.47 1.35L5.41 20z\"/>\n",
              "  </svg>\n",
              "      </button>\n",
              "      \n",
              "  <style>\n",
              "    .colab-df-container {\n",
              "      display:flex;\n",
              "      flex-wrap:wrap;\n",
              "      gap: 12px;\n",
              "    }\n",
              "\n",
              "    .colab-df-convert {\n",
              "      background-color: #E8F0FE;\n",
              "      border: none;\n",
              "      border-radius: 50%;\n",
              "      cursor: pointer;\n",
              "      display: none;\n",
              "      fill: #1967D2;\n",
              "      height: 32px;\n",
              "      padding: 0 0 0 0;\n",
              "      width: 32px;\n",
              "    }\n",
              "\n",
              "    .colab-df-convert:hover {\n",
              "      background-color: #E2EBFA;\n",
              "      box-shadow: 0px 1px 2px rgba(60, 64, 67, 0.3), 0px 1px 3px 1px rgba(60, 64, 67, 0.15);\n",
              "      fill: #174EA6;\n",
              "    }\n",
              "\n",
              "    [theme=dark] .colab-df-convert {\n",
              "      background-color: #3B4455;\n",
              "      fill: #D2E3FC;\n",
              "    }\n",
              "\n",
              "    [theme=dark] .colab-df-convert:hover {\n",
              "      background-color: #434B5C;\n",
              "      box-shadow: 0px 1px 3px 1px rgba(0, 0, 0, 0.15);\n",
              "      filter: drop-shadow(0px 1px 2px rgba(0, 0, 0, 0.3));\n",
              "      fill: #FFFFFF;\n",
              "    }\n",
              "  </style>\n",
              "\n",
              "      <script>\n",
              "        const buttonEl =\n",
              "          document.querySelector('#df-ceb42dea-8289-473a-be6f-265f921c732c button.colab-df-convert');\n",
              "        buttonEl.style.display =\n",
              "          google.colab.kernel.accessAllowed ? 'block' : 'none';\n",
              "\n",
              "        async function convertToInteractive(key) {\n",
              "          const element = document.querySelector('#df-ceb42dea-8289-473a-be6f-265f921c732c');\n",
              "          const dataTable =\n",
              "            await google.colab.kernel.invokeFunction('convertToInteractive',\n",
              "                                                     [key], {});\n",
              "          if (!dataTable) return;\n",
              "\n",
              "          const docLinkHtml = 'Like what you see? Visit the ' +\n",
              "            '<a target=\"_blank\" href=https://colab.research.google.com/notebooks/data_table.ipynb>data table notebook</a>'\n",
              "            + ' to learn more about interactive tables.';\n",
              "          element.innerHTML = '';\n",
              "          dataTable['output_type'] = 'display_data';\n",
              "          await google.colab.output.renderOutput(dataTable, element);\n",
              "          const docLink = document.createElement('div');\n",
              "          docLink.innerHTML = docLinkHtml;\n",
              "          element.appendChild(docLink);\n",
              "        }\n",
              "      </script>\n",
              "    </div>\n",
              "  </div>\n",
              "  "
            ]
          },
          "metadata": {},
          "execution_count": 12
        }
      ]
    },
    {
      "cell_type": "markdown",
      "source": [
        "#### Model - 3 SVM with Polynomial Kernel"
      ],
      "metadata": {
        "id": "o5NvRDDdT03q"
      }
    },
    {
      "cell_type": "code",
      "source": [
        "c_svm_poly = [0.0001, 0.001, 0.01, 0.1, 1, 10, 100]\n",
        "#Calling the svm model function and passing poly as parameter to create an svm model with linear kernel and passing various regularization parameter.\n",
        "test_acc_poly, temp_df = svm_models(x_train, y_train, x_val, y_val, x_test, y_test, 'poly', c_svm_poly)"
      ],
      "metadata": {
        "colab": {
          "base_uri": "https://localhost:8080/",
          "height": 295
        },
        "id": "R2M6hNiWMWGM",
        "outputId": "f9135b58-4ee1-44f5-efa3-d1034be1357c"
      },
      "execution_count": null,
      "outputs": [
        {
          "output_type": "display_data",
          "data": {
            "text/plain": [
              "<Figure size 432x288 with 1 Axes>"
            ],
            "image/png": "[encoded data removed]"
          },
          "metadata": {
            "needs_background": "light"
          }
        }
      ]
    },
    {
      "cell_type": "code",
      "source": [
        "#Printing the train and validation accuracy for different values of c\n",
        "temp_df"
      ],
      "metadata": {
        "colab": {
          "base_uri": "https://localhost:8080/",
          "height": 269
        },
        "id": "ua4eK8_EhbFM",
        "outputId": "bc31a6cc-4fa8-464b-9fa6-983edcabbd98"
      },
      "execution_count": null,
      "outputs": [
        {
          "output_type": "execute_result",
          "data": {
            "text/plain": [
              "   Regularization Parameter  Training Accuracy  Validation Accuracy\n",
              "0                    0.0001          10.733333                  8.7\n",
              "1                    0.0010          10.733333                  8.7\n",
              "2                    0.0100          12.066667                  8.7\n",
              "3                    0.1000          27.233333                 12.5\n",
              "4                    1.0000          72.200000                 26.5\n",
              "5                   10.0000          96.366667                 25.6\n",
              "6                  100.0000          99.866667                 24.7"
            ],
            "text/html": [
              "\n",
              "  <div id=\"df-5af28f72-6dd7-46a6-bcec-b4e865ff2fa6\">\n",
              "    <div class=\"colab-df-container\">\n",
              "      <div>\n",
              "<style scoped>\n",
              "    .dataframe tbody tr th:only-of-type {\n",
              "        vertical-align: middle;\n",
              "    }\n",
              "\n",
              "    .dataframe tbody tr th {\n",
              "        vertical-align: top;\n",
              "    }\n",
              "\n",
              "    .dataframe thead th {\n",
              "        text-align: right;\n",
              "    }\n",
              "</style>\n",
              "<table border=\"1\" class=\"dataframe\">\n",
              "  <thead>\n",
              "    <tr style=\"text-align: right;\">\n",
              "      <th></th>\n",
              "      <th>Regularization Parameter</th>\n",
              "      <th>Training Accuracy</th>\n",
              "      <th>Validation Accuracy</th>\n",
              "    </tr>\n",
              "  </thead>\n",
              "  <tbody>\n",
              "    <tr>\n",
              "      <th>0</th>\n",
              "      <td>0.0001</td>\n",
              "      <td>10.733333</td>\n",
              "      <td>8.7</td>\n",
              "    </tr>\n",
              "    <tr>\n",
              "      <th>1</th>\n",
              "      <td>0.0010</td>\n",
              "      <td>10.733333</td>\n",
              "      <td>8.7</td>\n",
              "    </tr>\n",
              "    <tr>\n",
              "      <th>2</th>\n",
              "      <td>0.0100</td>\n",
              "      <td>12.066667</td>\n",
              "      <td>8.7</td>\n",
              "    </tr>\n",
              "    <tr>\n",
              "      <th>3</th>\n",
              "      <td>0.1000</td>\n",
              "      <td>27.233333</td>\n",
              "      <td>12.5</td>\n",
              "    </tr>\n",
              "    <tr>\n",
              "      <th>4</th>\n",
              "      <td>1.0000</td>\n",
              "      <td>72.200000</td>\n",
              "      <td>26.5</td>\n",
              "    </tr>\n",
              "    <tr>\n",
              "      <th>5</th>\n",
              "      <td>10.0000</td>\n",
              "      <td>96.366667</td>\n",
              "      <td>25.6</td>\n",
              "    </tr>\n",
              "    <tr>\n",
              "      <th>6</th>\n",
              "      <td>100.0000</td>\n",
              "      <td>99.866667</td>\n",
              "      <td>24.7</td>\n",
              "    </tr>\n",
              "  </tbody>\n",
              "</table>\n",
              "</div>\n",
              "      <button class=\"colab-df-convert\" onclick=\"convertToInteractive('df-5af28f72-6dd7-46a6-bcec-b4e865ff2fa6')\"\n",
              "              title=\"Convert this dataframe to an interactive table.\"\n",
              "              style=\"display:none;\">\n",
              "        \n",
              "  <svg xmlns=\"http://www.w3.org/2000/svg\" height=\"24px\"viewBox=\"0 0 24 24\"\n",
              "       width=\"24px\">\n",
              "    <path d=\"M0 0h24v24H0V0z\" fill=\"none\"/>\n",
              "    <path d=\"M18.56 5.44l.94 2.06.94-2.06 2.06-.94-2.06-.94-.94-2.06-.94 2.06-2.06.94zm-11 1L8.5 8.5l.94-2.06 2.06-.94-2.06-.94L8.5 2.5l-.94 2.06-2.06.94zm10 10l.94 2.06.94-2.06 2.06-.94-2.06-.94-.94-2.06-.94 2.06-2.06.94z\"/><path d=\"M17.41 7.96l-1.37-1.37c-.4-.4-.92-.59-1.43-.59-.52 0-1.04.2-1.43.59L10.3 9.45l-7.72 7.72c-.78.78-.78 2.05 0 2.83L4 21.41c.39.39.9.59 1.41.59.51 0 1.02-.2 1.41-.59l7.78-7.78 2.81-2.81c.8-.78.8-2.07 0-2.86zM5.41 20L4 18.59l7.72-7.72 1.47 1.35L5.41 20z\"/>\n",
              "  </svg>\n",
              "      </button>\n",
              "      \n",
              "  <style>\n",
              "    .colab-df-container {\n",
              "      display:flex;\n",
              "      flex-wrap:wrap;\n",
              "      gap: 12px;\n",
              "    }\n",
              "\n",
              "    .colab-df-convert {\n",
              "      background-color: #E8F0FE;\n",
              "      border: none;\n",
              "      border-radius: 50%;\n",
              "      cursor: pointer;\n",
              "      display: none;\n",
              "      fill: #1967D2;\n",
              "      height: 32px;\n",
              "      padding: 0 0 0 0;\n",
              "      width: 32px;\n",
              "    }\n",
              "\n",
              "    .colab-df-convert:hover {\n",
              "      background-color: #E2EBFA;\n",
              "      box-shadow: 0px 1px 2px rgba(60, 64, 67, 0.3), 0px 1px 3px 1px rgba(60, 64, 67, 0.15);\n",
              "      fill: #174EA6;\n",
              "    }\n",
              "\n",
              "    [theme=dark] .colab-df-convert {\n",
              "      background-color: #3B4455;\n",
              "      fill: #D2E3FC;\n",
              "    }\n",
              "\n",
              "    [theme=dark] .colab-df-convert:hover {\n",
              "      background-color: #434B5C;\n",
              "      box-shadow: 0px 1px 3px 1px rgba(0, 0, 0, 0.15);\n",
              "      filter: drop-shadow(0px 1px 2px rgba(0, 0, 0, 0.3));\n",
              "      fill: #FFFFFF;\n",
              "    }\n",
              "  </style>\n",
              "\n",
              "      <script>\n",
              "        const buttonEl =\n",
              "          document.querySelector('#df-5af28f72-6dd7-46a6-bcec-b4e865ff2fa6 button.colab-df-convert');\n",
              "        buttonEl.style.display =\n",
              "          google.colab.kernel.accessAllowed ? 'block' : 'none';\n",
              "\n",
              "        async function convertToInteractive(key) {\n",
              "          const element = document.querySelector('#df-5af28f72-6dd7-46a6-bcec-b4e865ff2fa6');\n",
              "          const dataTable =\n",
              "            await google.colab.kernel.invokeFunction('convertToInteractive',\n",
              "                                                     [key], {});\n",
              "          if (!dataTable) return;\n",
              "\n",
              "          const docLinkHtml = 'Like what you see? Visit the ' +\n",
              "            '<a target=\"_blank\" href=https://colab.research.google.com/notebooks/data_table.ipynb>data table notebook</a>'\n",
              "            + ' to learn more about interactive tables.';\n",
              "          element.innerHTML = '';\n",
              "          dataTable['output_type'] = 'display_data';\n",
              "          await google.colab.output.renderOutput(dataTable, element);\n",
              "          const docLink = document.createElement('div');\n",
              "          docLink.innerHTML = docLinkHtml;\n",
              "          element.appendChild(docLink);\n",
              "        }\n",
              "      </script>\n",
              "    </div>\n",
              "  </div>\n",
              "  "
            ]
          },
          "metadata": {},
          "execution_count": 14
        }
      ]
    },
    {
      "cell_type": "markdown",
      "source": [
        "#### Model - 4 SVM with RBF Kernel"
      ],
      "metadata": {
        "id": "R6EJxl9WT7NZ"
      }
    },
    {
      "cell_type": "code",
      "source": [
        "c_svm_rbf = [0.0001, 0.001, 0.01, 0.1, 1, 10, 100]\n",
        "#Calling the svm model function and passing rbf as parameter to create an svm model with linear kernel and passing various regularization parameter.\n",
        "test_acc_rbf, temp_df = svm_models(x_train, y_train, x_val, y_val, x_test, y_test, 'rbf', c_svm_poly)"
      ],
      "metadata": {
        "colab": {
          "base_uri": "https://localhost:8080/",
          "height": 295
        },
        "id": "nVdZiHWlFSmz",
        "outputId": "c51ac7cd-c6d0-47f7-e238-27b88da96244"
      },
      "execution_count": null,
      "outputs": [
        {
          "output_type": "display_data",
          "data": {
            "text/plain": [
              "<Figure size 432x288 with 1 Axes>"
            ],
            "image/png": "[encoded data removed]"
          },
          "metadata": {
            "needs_background": "light"
          }
        }
      ]
    },
    {
      "cell_type": "code",
      "source": [
        "#Printing the train and validation accuracy for different values of c\n",
        "temp_df"
      ],
      "metadata": {
        "colab": {
          "base_uri": "https://localhost:8080/",
          "height": 269
        },
        "id": "a10Y8ln4hdWM",
        "outputId": "f3de3d1a-662e-41cd-8b2d-16d3a7a60372"
      },
      "execution_count": null,
      "outputs": [
        {
          "output_type": "execute_result",
          "data": {
            "text/plain": [
              "   Regularization Parameter  Training Accuracy  Validation Accuracy\n",
              "0                    0.0001          10.733333                  7.9\n",
              "1                    0.0010          10.733333                  7.9\n",
              "2                    0.0100          10.733333                  7.9\n",
              "3                    0.1000          30.733333                 11.9\n",
              "4                    1.0000          48.733333                 11.9\n",
              "5                   10.0000          84.833333                 10.5\n",
              "6                  100.0000         100.000000                 11.9"
            ],
            "text/html": [
              "\n",
              "  <div id=\"df-c0aa2da1-1588-4e3c-99af-f41f24b8d3ae\">\n",
              "    <div class=\"colab-df-container\">\n",
              "      <div>\n",
              "<style scoped>\n",
              "    .dataframe tbody tr th:only-of-type {\n",
              "        vertical-align: middle;\n",
              "    }\n",
              "\n",
              "    .dataframe tbody tr th {\n",
              "        vertical-align: top;\n",
              "    }\n",
              "\n",
              "    .dataframe thead th {\n",
              "        text-align: right;\n",
              "    }\n",
              "</style>\n",
              "<table border=\"1\" class=\"dataframe\">\n",
              "  <thead>\n",
              "    <tr style=\"text-align: right;\">\n",
              "      <th></th>\n",
              "      <th>Regularization Parameter</th>\n",
              "      <th>Training Accuracy</th>\n",
              "      <th>Validation Accuracy</th>\n",
              "    </tr>\n",
              "  </thead>\n",
              "  <tbody>\n",
              "    <tr>\n",
              "      <th>0</th>\n",
              "      <td>0.0001</td>\n",
              "      <td>10.733333</td>\n",
              "      <td>7.9</td>\n",
              "    </tr>\n",
              "    <tr>\n",
              "      <th>1</th>\n",
              "      <td>0.0010</td>\n",
              "      <td>10.733333</td>\n",
              "      <td>7.9</td>\n",
              "    </tr>\n",
              "    <tr>\n",
              "      <th>2</th>\n",
              "      <td>0.0100</td>\n",
              "      <td>10.733333</td>\n",
              "      <td>7.9</td>\n",
              "    </tr>\n",
              "    <tr>\n",
              "      <th>3</th>\n",
              "      <td>0.1000</td>\n",
              "      <td>30.733333</td>\n",
              "      <td>11.9</td>\n",
              "    </tr>\n",
              "    <tr>\n",
              "      <th>4</th>\n",
              "      <td>1.0000</td>\n",
              "      <td>48.733333</td>\n",
              "      <td>11.9</td>\n",
              "    </tr>\n",
              "    <tr>\n",
              "      <th>5</th>\n",
              "      <td>10.0000</td>\n",
              "      <td>84.833333</td>\n",
              "      <td>10.5</td>\n",
              "    </tr>\n",
              "    <tr>\n",
              "      <th>6</th>\n",
              "      <td>100.0000</td>\n",
              "      <td>100.000000</td>\n",
              "      <td>11.9</td>\n",
              "    </tr>\n",
              "  </tbody>\n",
              "</table>\n",
              "</div>\n",
              "      <button class=\"colab-df-convert\" onclick=\"convertToInteractive('df-c0aa2da1-1588-4e3c-99af-f41f24b8d3ae')\"\n",
              "              title=\"Convert this dataframe to an interactive table.\"\n",
              "              style=\"display:none;\">\n",
              "        \n",
              "  <svg xmlns=\"http://www.w3.org/2000/svg\" height=\"24px\"viewBox=\"0 0 24 24\"\n",
              "       width=\"24px\">\n",
              "    <path d=\"M0 0h24v24H0V0z\" fill=\"none\"/>\n",
              "    <path d=\"M18.56 5.44l.94 2.06.94-2.06 2.06-.94-2.06-.94-.94-2.06-.94 2.06-2.06.94zm-11 1L8.5 8.5l.94-2.06 2.06-.94-2.06-.94L8.5 2.5l-.94 2.06-2.06.94zm10 10l.94 2.06.94-2.06 2.06-.94-2.06-.94-.94-2.06-.94 2.06-2.06.94z\"/><path d=\"M17.41 7.96l-1.37-1.37c-.4-.4-.92-.59-1.43-.59-.52 0-1.04.2-1.43.59L10.3 9.45l-7.72 7.72c-.78.78-.78 2.05 0 2.83L4 21.41c.39.39.9.59 1.41.59.51 0 1.02-.2 1.41-.59l7.78-7.78 2.81-2.81c.8-.78.8-2.07 0-2.86zM5.41 20L4 18.59l7.72-7.72 1.47 1.35L5.41 20z\"/>\n",
              "  </svg>\n",
              "      </button>\n",
              "      \n",
              "  <style>\n",
              "    .colab-df-container {\n",
              "      display:flex;\n",
              "      flex-wrap:wrap;\n",
              "      gap: 12px;\n",
              "    }\n",
              "\n",
              "    .colab-df-convert {\n",
              "      background-color: #E8F0FE;\n",
              "      border: none;\n",
              "      border-radius: 50%;\n",
              "      cursor: pointer;\n",
              "      display: none;\n",
              "      fill: #1967D2;\n",
              "      height: 32px;\n",
              "      padding: 0 0 0 0;\n",
              "      width: 32px;\n",
              "    }\n",
              "\n",
              "    .colab-df-convert:hover {\n",
              "      background-color: #E2EBFA;\n",
              "      box-shadow: 0px 1px 2px rgba(60, 64, 67, 0.3), 0px 1px 3px 1px rgba(60, 64, 67, 0.15);\n",
              "      fill: #174EA6;\n",
              "    }\n",
              "\n",
              "    [theme=dark] .colab-df-convert {\n",
              "      background-color: #3B4455;\n",
              "      fill: #D2E3FC;\n",
              "    }\n",
              "\n",
              "    [theme=dark] .colab-df-convert:hover {\n",
              "      background-color: #434B5C;\n",
              "      box-shadow: 0px 1px 3px 1px rgba(0, 0, 0, 0.15);\n",
              "      filter: drop-shadow(0px 1px 2px rgba(0, 0, 0, 0.3));\n",
              "      fill: #FFFFFF;\n",
              "    }\n",
              "  </style>\n",
              "\n",
              "      <script>\n",
              "        const buttonEl =\n",
              "          document.querySelector('#df-c0aa2da1-1588-4e3c-99af-f41f24b8d3ae button.colab-df-convert');\n",
              "        buttonEl.style.display =\n",
              "          google.colab.kernel.accessAllowed ? 'block' : 'none';\n",
              "\n",
              "        async function convertToInteractive(key) {\n",
              "          const element = document.querySelector('#df-c0aa2da1-1588-4e3c-99af-f41f24b8d3ae');\n",
              "          const dataTable =\n",
              "            await google.colab.kernel.invokeFunction('convertToInteractive',\n",
              "                                                     [key], {});\n",
              "          if (!dataTable) return;\n",
              "\n",
              "          const docLinkHtml = 'Like what you see? Visit the ' +\n",
              "            '<a target=\"_blank\" href=https://colab.research.google.com/notebooks/data_table.ipynb>data table notebook</a>'\n",
              "            + ' to learn more about interactive tables.';\n",
              "          element.innerHTML = '';\n",
              "          dataTable['output_type'] = 'display_data';\n",
              "          await google.colab.output.renderOutput(dataTable, element);\n",
              "          const docLink = document.createElement('div');\n",
              "          docLink.innerHTML = docLinkHtml;\n",
              "          element.appendChild(docLink);\n",
              "        }\n",
              "      </script>\n",
              "    </div>\n",
              "  </div>\n",
              "  "
            ]
          },
          "metadata": {},
          "execution_count": 16
        }
      ]
    },
    {
      "cell_type": "markdown",
      "source": [
        "### Model - 5 DNN without CNN"
      ],
      "metadata": {
        "id": "Qy-7JZ1TUPxy"
      }
    },
    {
      "cell_type": "code",
      "source": [
        "num_classes = 10\n",
        "\n",
        "(x_train, y_train), (x_test, y_test) = cifar10.load_data()  \n",
        "\n",
        "print()\n",
        "print('Training Data shape:', x_train.shape)\n",
        "print(\"Number of Training Samples\", x_train.shape[0])\n",
        "print(\"Number of Testing Samples\", x_test.shape[0])\n",
        "\n",
        "# Converting to Categorical Classes\n",
        "y_train = keras.utils.np_utils.to_categorical(y_train, num_classes)\n",
        "y_test = keras.utils.np_utils.to_categorical(y_test, num_classes)"
      ],
      "metadata": {
        "colab": {
          "base_uri": "https://localhost:8080/"
        },
        "id": "U57ilqfMIz9r",
        "outputId": "d5e70dfb-6831-49ce-815a-c6270613934a"
      },
      "execution_count": null,
      "outputs": [
        {
          "output_type": "stream",
          "name": "stdout",
          "text": [
            "\n",
            "Training Data shape: (50000, 32, 32, 3)\n",
            "Number of Training Samples 50000\n",
            "Number of Testing Samples 10000\n"
          ]
        }
      ]
    },
    {
      "cell_type": "markdown",
      "source": [
        "#### Pre - Processing"
      ],
      "metadata": {
        "id": "zWnasLGP_X2V"
      }
    },
    {
      "cell_type": "code",
      "source": [
        "#Splitting the data into train and validation\n",
        "x_train, x_val, y_train, y_val = train_test_split(x_train, y_train, test_size = 0.25, random_state = 42) "
      ],
      "metadata": {
        "id": "QQVYD0CZACk8"
      },
      "execution_count": null,
      "outputs": []
    },
    {
      "cell_type": "code",
      "source": [
        "print(\"Number of Training Samples\", x_train.shape[0])\n",
        "print(\"Number of Validation Samples\", x_val.shape[0])\n",
        "print(\"Number of Testing Samples\", x_test.shape[0])"
      ],
      "metadata": {
        "colab": {
          "base_uri": "https://localhost:8080/"
        },
        "id": "dE_cQ015ALZh",
        "outputId": "998702ed-145d-4e3c-d317-6c91d9091c75"
      },
      "execution_count": null,
      "outputs": [
        {
          "output_type": "stream",
          "name": "stdout",
          "text": [
            "Number of Training Samples 37500\n",
            "Number of Validation Samples 12500\n",
            "Number of Testing Samples 10000\n"
          ]
        }
      ]
    },
    {
      "cell_type": "code",
      "source": [
        "#Scaling the data for training and testing the model\n",
        "X_train_scaled = x_train / 255\n",
        "X_val_scaled = x_val / 255\n",
        "X_test_scaled = x_test / 255"
      ],
      "metadata": {
        "id": "oEulfxuwQFvH"
      },
      "execution_count": null,
      "outputs": []
    },
    {
      "cell_type": "code",
      "source": [
        "# Creating Neural Network without CNN\n",
        "model = keras.Sequential([\n",
        "        keras.layers.Flatten(input_shape = (32, 32, 3)),\n",
        "        keras.layers.Dense(3000, activation = 'relu'),\n",
        "        keras.layers.Dense(1000, activation = 'relu'),\n",
        "        keras.layers.Dense(10, activation = 'sigmoid')\n",
        "    ])\n",
        "\n",
        "#Compiling the model with Stochastic Gradient Descent as optimizer and categorical cross entropy loss and metrics = accuracy\n",
        "model.compile(optimizer = 'SGD', loss = 'categorical_crossentropy', metrics = ['accuracy'])"
      ],
      "metadata": {
        "id": "kXqhimr4QXWh"
      },
      "execution_count": null,
      "outputs": []
    },
    {
      "cell_type": "code",
      "source": [
        "#Training the model for 25 epochs along with validation data\n",
        "history = model.fit(X_train_scaled, y_train, epochs = 25, validation_data = (X_val_scaled, y_val))"
      ],
      "metadata": {
        "colab": {
          "base_uri": "https://localhost:8080/"
        },
        "id": "kPHgX6qrQavW",
        "outputId": "24946095-7814-47e0-c51d-6577a12416b1"
      },
      "execution_count": null,
      "outputs": [
        {
          "output_type": "stream",
          "name": "stdout",
          "text": [
            "Epoch 1/25\n",
            "1172/1172 [==============================] - 15s 11ms/step - loss: 1.8470 - accuracy: 0.3418 - val_loss: 1.6987 - val_accuracy: 0.3996\n",
            "Epoch 2/25\n",
            "1172/1172 [==============================] - 12s 10ms/step - loss: 1.6598 - accuracy: 0.4146 - val_loss: 1.6656 - val_accuracy: 0.4089\n",
            "Epoch 3/25\n",
            "1172/1172 [==============================] - 13s 11ms/step - loss: 1.5783 - accuracy: 0.4421 - val_loss: 1.6007 - val_accuracy: 0.4242\n",
            "Epoch 4/25\n",
            "1172/1172 [==============================] - 13s 11ms/step - loss: 1.5210 - accuracy: 0.4651 - val_loss: 1.6423 - val_accuracy: 0.4105\n",
            "Epoch 5/25\n",
            "1172/1172 [==============================] - 12s 10ms/step - loss: 1.4724 - accuracy: 0.4797 - val_loss: 1.5445 - val_accuracy: 0.4506\n",
            "Epoch 6/25\n",
            "1172/1172 [==============================] - 12s 10ms/step - loss: 1.4288 - accuracy: 0.5016 - val_loss: 1.4753 - val_accuracy: 0.4814\n",
            "Epoch 7/25\n",
            "1172/1172 [==============================] - 12s 10ms/step - loss: 1.3910 - accuracy: 0.5122 - val_loss: 1.4660 - val_accuracy: 0.4811\n",
            "Epoch 8/25\n",
            "1172/1172 [==============================] - 12s 10ms/step - loss: 1.3570 - accuracy: 0.5240 - val_loss: 1.5045 - val_accuracy: 0.4715\n",
            "Epoch 9/25\n",
            "1172/1172 [==============================] - 12s 10ms/step - loss: 1.3221 - accuracy: 0.5373 - val_loss: 1.4478 - val_accuracy: 0.4815\n",
            "Epoch 10/25\n",
            "1172/1172 [==============================] - 12s 10ms/step - loss: 1.2952 - accuracy: 0.5469 - val_loss: 1.4348 - val_accuracy: 0.5024\n",
            "Epoch 11/25\n",
            "1172/1172 [==============================] - 13s 11ms/step - loss: 1.2655 - accuracy: 0.5572 - val_loss: 1.4029 - val_accuracy: 0.5058\n",
            "Epoch 12/25\n",
            "1172/1172 [==============================] - 13s 11ms/step - loss: 1.2395 - accuracy: 0.5664 - val_loss: 1.3978 - val_accuracy: 0.5126\n",
            "Epoch 13/25\n",
            "1172/1172 [==============================] - 13s 11ms/step - loss: 1.2069 - accuracy: 0.5786 - val_loss: 1.3817 - val_accuracy: 0.5133\n",
            "Epoch 14/25\n",
            "1172/1172 [==============================] - 12s 10ms/step - loss: 1.1833 - accuracy: 0.5880 - val_loss: 1.3647 - val_accuracy: 0.5215\n",
            "Epoch 15/25\n",
            "1172/1172 [==============================] - 13s 11ms/step - loss: 1.1565 - accuracy: 0.5966 - val_loss: 1.3860 - val_accuracy: 0.5120\n",
            "Epoch 16/25\n",
            "1172/1172 [==============================] - 13s 11ms/step - loss: 1.1274 - accuracy: 0.6074 - val_loss: 1.4032 - val_accuracy: 0.5125\n",
            "Epoch 17/25\n",
            "1172/1172 [==============================] - 12s 10ms/step - loss: 1.1024 - accuracy: 0.6157 - val_loss: 1.3868 - val_accuracy: 0.5145\n",
            "Epoch 18/25\n",
            "1172/1172 [==============================] - 12s 10ms/step - loss: 1.0753 - accuracy: 0.6253 - val_loss: 1.3494 - val_accuracy: 0.5284\n",
            "Epoch 19/25\n",
            "1172/1172 [==============================] - 13s 11ms/step - loss: 1.0514 - accuracy: 0.6321 - val_loss: 1.3344 - val_accuracy: 0.5422\n",
            "Epoch 20/25\n",
            "1172/1172 [==============================] - 12s 10ms/step - loss: 1.0246 - accuracy: 0.6464 - val_loss: 1.3840 - val_accuracy: 0.5179\n",
            "Epoch 21/25\n",
            "1172/1172 [==============================] - 13s 11ms/step - loss: 1.0007 - accuracy: 0.6507 - val_loss: 1.3815 - val_accuracy: 0.5239\n",
            "Epoch 22/25\n",
            "1172/1172 [==============================] - 12s 10ms/step - loss: 0.9767 - accuracy: 0.6610 - val_loss: 1.4213 - val_accuracy: 0.5119\n",
            "Epoch 23/25\n",
            "1172/1172 [==============================] - 12s 10ms/step - loss: 0.9496 - accuracy: 0.6713 - val_loss: 1.3250 - val_accuracy: 0.5446\n",
            "Epoch 24/25\n",
            "1172/1172 [==============================] - 12s 10ms/step - loss: 0.9243 - accuracy: 0.6826 - val_loss: 1.3513 - val_accuracy: 0.5333\n",
            "Epoch 25/25\n",
            "1172/1172 [==============================] - 12s 10ms/step - loss: 0.9019 - accuracy: 0.6921 - val_loss: 1.4430 - val_accuracy: 0.5082\n"
          ]
        }
      ]
    },
    {
      "cell_type": "code",
      "source": [
        "#Plotting the Training and Validation Accuracy vs # of epochs\n",
        "plt.plot(history.history['accuracy'])\n",
        "plt.plot(history.history['val_accuracy'])\n",
        "plt.title('model accuracy')\n",
        "plt.ylabel('Accuracy')\n",
        "plt.xlabel('Epoch')\n",
        "plt.legend(['Train', 'Val'], loc = 'upper left')\n",
        "plt.show()"
      ],
      "metadata": {
        "id": "6f5jd1qKBOYu",
        "colab": {
          "base_uri": "https://localhost:8080/",
          "height": 295
        },
        "outputId": "d86f877b-13f2-4976-875c-6249d2261528"
      },
      "execution_count": null,
      "outputs": [
        {
          "output_type": "display_data",
          "data": {
            "text/plain": [
              "<Figure size 432x288 with 1 Axes>"
            ],
            "image/png": "[encoded data removed]"
          },
          "metadata": {
            "needs_background": "light"
          }
        }
      ]
    },
    {
      "cell_type": "code",
      "source": [
        "#Plotting the Training and Validation Loss vs # of epochs\n",
        "plt.plot(history.history['loss'])\n",
        "plt.plot(history.history['val_loss'])\n",
        "plt.title('Model loss')\n",
        "plt.ylabel('Loss')\n",
        "plt.xlabel('Epoch')\n",
        "plt.legend(['train', 'val'], loc = 'upper left')\n",
        "plt.show()"
      ],
      "metadata": {
        "id": "rAb4l7VvBOUR",
        "colab": {
          "base_uri": "https://localhost:8080/",
          "height": 295
        },
        "outputId": "24ce189c-4e20-4cab-f2bc-6b9e75810766"
      },
      "execution_count": null,
      "outputs": [
        {
          "output_type": "display_data",
          "data": {
            "text/plain": [
              "<Figure size 432x288 with 1 Axes>"
            ],
            "image/png": "[encoded data removed]"
          },
          "metadata": {
            "needs_background": "light"
          }
        }
      ]
    },
    {
      "cell_type": "code",
      "source": [
        "#Testing the model on the test data\n",
        "test_loss_wo_cnn, test_accuracy_wo_cnn = model.evaluate(X_test_scaled, y_test)"
      ],
      "metadata": {
        "id": "MtZmnwloQhN-",
        "colab": {
          "base_uri": "https://localhost:8080/"
        },
        "outputId": "39a7ef7c-816c-40fd-a9ac-1035c926bab9"
      },
      "execution_count": null,
      "outputs": [
        {
          "output_type": "stream",
          "name": "stdout",
          "text": [
            "313/313 [==============================] - 2s 5ms/step - loss: 1.4368 - accuracy: 0.5066\n"
          ]
        }
      ]
    },
    {
      "cell_type": "markdown",
      "source": [
        "### Model - 6 DNN with CNN"
      ],
      "metadata": {
        "id": "_6NJz6YKWIqr"
      }
    },
    {
      "cell_type": "code",
      "source": [
        "import tensorflow as tf"
      ],
      "metadata": {
        "id": "YyiGWjfHWkoR"
      },
      "execution_count": null,
      "outputs": []
    },
    {
      "cell_type": "code",
      "source": [
        "num_classes = 10\n",
        "\n",
        "(x_train, y_train), (x_test, y_test) = cifar10.load_data()  \n",
        "\n",
        "print()\n",
        "print('Training Data shape:', x_train.shape)\n",
        "print(\"Number of Training Samples\", x_train.shape[0])\n",
        "print(\"Number of Testing Samples\", x_test.shape[0])"
      ],
      "metadata": {
        "id": "xk3Y5McVWHy8",
        "colab": {
          "base_uri": "https://localhost:8080/"
        },
        "outputId": "19da92f3-5b53-445b-b9ec-2d63527aee62"
      },
      "execution_count": null,
      "outputs": [
        {
          "output_type": "stream",
          "name": "stdout",
          "text": [
            "\n",
            "Training Data shape: (50000, 32, 32, 3)\n",
            "Number of Training Samples 50000\n",
            "Number of Testing Samples 10000\n"
          ]
        }
      ]
    },
    {
      "cell_type": "code",
      "source": [
        "#Splitting the data into train and validation\n",
        "x_train, x_val, y_train, y_val = train_test_split(x_train, y_train, test_size = 0.25, random_state = 42) "
      ],
      "metadata": {
        "id": "9ciBBj7bYIxE"
      },
      "execution_count": null,
      "outputs": []
    },
    {
      "cell_type": "code",
      "source": [
        "#Scaling the data for training the model\n",
        "X_train_scaled = x_train / 255\n",
        "X_val_scaled = x_val / 255\n",
        "X_test_scaled = x_test / 255"
      ],
      "metadata": {
        "id": "RvABOn8GXDpb"
      },
      "execution_count": null,
      "outputs": []
    },
    {
      "cell_type": "code",
      "source": [
        "#Plotting a random test image\n",
        "plt.imshow(x_test[217])"
      ],
      "metadata": {
        "id": "3_46OO2bWHtx",
        "colab": {
          "base_uri": "https://localhost:8080/",
          "height": 284
        },
        "outputId": "336a51bd-2b6c-4a3d-ef05-09aadd9a1e43"
      },
      "execution_count": null,
      "outputs": [
        {
          "output_type": "execute_result",
          "data": {
            "text/plain": [
              "<matplotlib.image.AxesImage at 0x7f4291498750>"
            ]
          },
          "metadata": {},
          "execution_count": 30
        },
        {
          "output_type": "display_data",
          "data": {
            "text/plain": [
              "<Figure size 432x288 with 1 Axes>"
            ],
            "image/png": "[encoded data removed]"
          },
          "metadata": {
            "needs_background": "light"
          }
        }
      ]
    },
    {
      "cell_type": "code",
      "source": [
        "#Creating a neural network with Convolution Layers\n",
        "model_cnn = tf.keras.models.Sequential()\n",
        "model_cnn.add(tf.keras.layers.Conv2D(filters=32,kernel_size=3,padding=\"same\", activation=\"relu\", input_shape=[32,32,3]))\n",
        "model_cnn.add(tf.keras.layers.Conv2D(filters=32,kernel_size=3,padding=\"same\", activation=\"relu\"))\n",
        "model_cnn.add(tf.keras.layers.MaxPool2D(pool_size=2,strides=2,padding='valid'))\n",
        "model_cnn.add(tf.keras.layers.Conv2D(filters=64,kernel_size=3,padding=\"same\", activation=\"relu\"))\n",
        "model_cnn.add(tf.keras.layers.Conv2D(filters=64,kernel_size=3,padding=\"same\", activation=\"relu\"))\n",
        "model_cnn.add(tf.keras.layers.MaxPool2D(pool_size=2,strides=2,padding='valid'))\n",
        "model_cnn.add(tf.keras.layers.Flatten())\n",
        "model_cnn.add(tf.keras.layers.Dropout(0.5,noise_shape=None,seed=None))\n",
        "model_cnn.add(tf.keras.layers.Dense(units = 128,activation='relu'))\n",
        "model_cnn.add(tf.keras.layers.Dense(units = 10,activation='softmax'))"
      ],
      "metadata": {
        "id": "IiQ_1-YDWHq5"
      },
      "execution_count": null,
      "outputs": []
    },
    {
      "cell_type": "code",
      "source": [
        "#Printing the model architecture\n",
        "model_cnn.summary()"
      ],
      "metadata": {
        "id": "vv5TZmvWWHnz",
        "colab": {
          "base_uri": "https://localhost:8080/"
        },
        "outputId": "df4f8f59-7cc8-4bb2-f6f7-b09604dc1fbc"
      },
      "execution_count": null,
      "outputs": [
        {
          "output_type": "stream",
          "name": "stdout",
          "text": [
            "Model: \"sequential_1\"\n",
            "_________________________________________________________________\n",
            " Layer (type)                Output Shape              Param #   \n",
            "=================================================================\n",
            " conv2d (Conv2D)             (None, 32, 32, 32)        896       \n",
            "                                                                 \n",
            " conv2d_1 (Conv2D)           (None, 32, 32, 32)        9248      \n",
            "                                                                 \n",
            " max_pooling2d (MaxPooling2D  (None, 16, 16, 32)       0         \n",
            " )                                                               \n",
            "                                                                 \n",
            " conv2d_2 (Conv2D)           (None, 16, 16, 64)        18496     \n",
            "                                                                 \n",
            " conv2d_3 (Conv2D)           (None, 16, 16, 64)        36928     \n",
            "                                                                 \n",
            " max_pooling2d_1 (MaxPooling  (None, 8, 8, 64)         0         \n",
            " 2D)                                                             \n",
            "                                                                 \n",
            " flatten_1 (Flatten)         (None, 4096)              0         \n",
            "                                                                 \n",
            " dropout (Dropout)           (None, 4096)              0         \n",
            "                                                                 \n",
            " dense_3 (Dense)             (None, 128)               524416    \n",
            "                                                                 \n",
            " dense_4 (Dense)             (None, 10)                1290      \n",
            "                                                                 \n",
            "=================================================================\n",
            "Total params: 591,274\n",
            "Trainable params: 591,274\n",
            "Non-trainable params: 0\n",
            "_________________________________________________________________\n"
          ]
        }
      ]
    },
    {
      "cell_type": "code",
      "source": [
        "#Compiling the model with Adam as optimizer and sparse categorical cross entropy loss and metrics = sparse categorical accuracy\n",
        "model_cnn.compile(loss = \"sparse_categorical_crossentropy\", optimizer = \"Adam\", metrics = [\"sparse_categorical_accuracy\"])"
      ],
      "metadata": {
        "id": "he9loeQ8WHlM"
      },
      "execution_count": null,
      "outputs": []
    },
    {
      "cell_type": "code",
      "source": [
        "#Training the model for 25 epochs along with validation data\n",
        "history1 = model_cnn.fit(X_train_scaled, y_train, epochs = 25, validation_data = (X_val_scaled, y_val))"
      ],
      "metadata": {
        "id": "ywHVT4OhWHhy",
        "colab": {
          "base_uri": "https://localhost:8080/"
        },
        "outputId": "48e8e6fa-d878-4c8f-b341-2ff73f188663"
      },
      "execution_count": null,
      "outputs": [
        {
          "output_type": "stream",
          "name": "stdout",
          "text": [
            "Epoch 1/25\n",
            "1172/1172 [==============================] - 30s 17ms/step - loss: 1.5332 - sparse_categorical_accuracy: 0.4387 - val_loss: 1.2095 - val_sparse_categorical_accuracy: 0.5660\n",
            "Epoch 2/25\n",
            "1172/1172 [==============================] - 18s 15ms/step - loss: 1.1192 - sparse_categorical_accuracy: 0.6017 - val_loss: 0.9728 - val_sparse_categorical_accuracy: 0.6546\n",
            "Epoch 3/25\n",
            "1172/1172 [==============================] - 19s 16ms/step - loss: 0.9403 - sparse_categorical_accuracy: 0.6657 - val_loss: 0.8558 - val_sparse_categorical_accuracy: 0.6990\n",
            "Epoch 4/25\n",
            "1172/1172 [==============================] - 19s 16ms/step - loss: 0.8351 - sparse_categorical_accuracy: 0.7032 - val_loss: 0.7831 - val_sparse_categorical_accuracy: 0.7248\n",
            "Epoch 5/25\n",
            "1172/1172 [==============================] - 20s 17ms/step - loss: 0.7543 - sparse_categorical_accuracy: 0.7337 - val_loss: 0.7419 - val_sparse_categorical_accuracy: 0.7426\n",
            "Epoch 6/25\n",
            "1172/1172 [==============================] - 19s 17ms/step - loss: 0.6988 - sparse_categorical_accuracy: 0.7544 - val_loss: 0.7663 - val_sparse_categorical_accuracy: 0.7344\n",
            "Epoch 7/25\n",
            "1172/1172 [==============================] - 19s 16ms/step - loss: 0.6461 - sparse_categorical_accuracy: 0.7691 - val_loss: 0.7270 - val_sparse_categorical_accuracy: 0.7494\n",
            "Epoch 8/25\n",
            "1172/1172 [==============================] - 19s 16ms/step - loss: 0.5968 - sparse_categorical_accuracy: 0.7859 - val_loss: 0.7268 - val_sparse_categorical_accuracy: 0.7480\n",
            "Epoch 9/25\n",
            "1172/1172 [==============================] - 19s 16ms/step - loss: 0.5631 - sparse_categorical_accuracy: 0.8006 - val_loss: 0.7120 - val_sparse_categorical_accuracy: 0.7570\n",
            "Epoch 10/25\n",
            "1172/1172 [==============================] - 19s 16ms/step - loss: 0.5263 - sparse_categorical_accuracy: 0.8123 - val_loss: 0.6909 - val_sparse_categorical_accuracy: 0.7606\n",
            "Epoch 11/25\n",
            "1172/1172 [==============================] - 20s 17ms/step - loss: 0.4911 - sparse_categorical_accuracy: 0.8262 - val_loss: 0.7274 - val_sparse_categorical_accuracy: 0.7586\n",
            "Epoch 12/25\n",
            "1172/1172 [==============================] - 20s 17ms/step - loss: 0.4682 - sparse_categorical_accuracy: 0.8343 - val_loss: 0.7558 - val_sparse_categorical_accuracy: 0.7487\n",
            "Epoch 13/25\n",
            "1172/1172 [==============================] - 19s 17ms/step - loss: 0.4511 - sparse_categorical_accuracy: 0.8381 - val_loss: 0.6974 - val_sparse_categorical_accuracy: 0.7659\n",
            "Epoch 14/25\n",
            "1172/1172 [==============================] - 20s 17ms/step - loss: 0.4285 - sparse_categorical_accuracy: 0.8465 - val_loss: 0.7383 - val_sparse_categorical_accuracy: 0.7697\n",
            "Epoch 15/25\n",
            "1172/1172 [==============================] - 20s 17ms/step - loss: 0.3964 - sparse_categorical_accuracy: 0.8599 - val_loss: 0.7052 - val_sparse_categorical_accuracy: 0.7732\n",
            "Epoch 16/25\n",
            "1172/1172 [==============================] - 20s 17ms/step - loss: 0.3868 - sparse_categorical_accuracy: 0.8606 - val_loss: 0.7419 - val_sparse_categorical_accuracy: 0.7663\n",
            "Epoch 17/25\n",
            "1172/1172 [==============================] - 20s 17ms/step - loss: 0.3662 - sparse_categorical_accuracy: 0.8696 - val_loss: 0.7623 - val_sparse_categorical_accuracy: 0.7653\n",
            "Epoch 18/25\n",
            "1172/1172 [==============================] - 20s 17ms/step - loss: 0.3531 - sparse_categorical_accuracy: 0.8726 - val_loss: 0.7193 - val_sparse_categorical_accuracy: 0.7734\n",
            "Epoch 19/25\n",
            "1172/1172 [==============================] - 20s 17ms/step - loss: 0.3433 - sparse_categorical_accuracy: 0.8766 - val_loss: 0.7771 - val_sparse_categorical_accuracy: 0.7663\n",
            "Epoch 20/25\n",
            "1172/1172 [==============================] - 19s 17ms/step - loss: 0.3268 - sparse_categorical_accuracy: 0.8823 - val_loss: 0.7767 - val_sparse_categorical_accuracy: 0.7710\n",
            "Epoch 21/25\n",
            "1172/1172 [==============================] - 19s 17ms/step - loss: 0.3084 - sparse_categorical_accuracy: 0.8904 - val_loss: 0.7362 - val_sparse_categorical_accuracy: 0.7794\n",
            "Epoch 22/25\n",
            "1172/1172 [==============================] - 19s 17ms/step - loss: 0.3057 - sparse_categorical_accuracy: 0.8917 - val_loss: 0.7355 - val_sparse_categorical_accuracy: 0.7760\n",
            "Epoch 23/25\n",
            "1172/1172 [==============================] - 19s 16ms/step - loss: 0.2988 - sparse_categorical_accuracy: 0.8940 - val_loss: 0.7616 - val_sparse_categorical_accuracy: 0.7765\n",
            "Epoch 24/25\n",
            "1172/1172 [==============================] - 19s 16ms/step - loss: 0.2894 - sparse_categorical_accuracy: 0.8955 - val_loss: 0.8389 - val_sparse_categorical_accuracy: 0.7564\n",
            "Epoch 25/25\n",
            "1172/1172 [==============================] - 20s 17ms/step - loss: 0.2768 - sparse_categorical_accuracy: 0.9023 - val_loss: 0.7878 - val_sparse_categorical_accuracy: 0.7738\n"
          ]
        }
      ]
    },
    {
      "cell_type": "code",
      "source": [
        "#Plotting the Training and Validation Accuracy vs # of epochs\n",
        "plt.plot(history1.history['sparse_categorical_accuracy'])\n",
        "plt.plot(history1.history['val_sparse_categorical_accuracy'])\n",
        "plt.title('Model accuracy')\n",
        "plt.ylabel('Accuracy')\n",
        "plt.xlabel('Epoch')\n",
        "plt.legend(['Train', 'Val'], loc = 'upper left')\n",
        "plt.show()"
      ],
      "metadata": {
        "id": "LMpBQyYwjyqr",
        "colab": {
          "base_uri": "https://localhost:8080/",
          "height": 295
        },
        "outputId": "eb04d9e6-4d94-432c-b448-6992b2d48d33"
      },
      "execution_count": null,
      "outputs": [
        {
          "output_type": "display_data",
          "data": {
            "text/plain": [
              "<Figure size 432x288 with 1 Axes>"
            ],
            "image/png": "[encoded data removed]"
          },
          "metadata": {
            "needs_background": "light"
          }
        }
      ]
    },
    {
      "cell_type": "code",
      "source": [
        "#Plotting the Training and Validation Loss vs # of epochs\n",
        "plt.plot(history1.history['loss'])\n",
        "plt.plot(history1.history['val_loss'])\n",
        "plt.title('Model loss')\n",
        "plt.ylabel('Loss')\n",
        "plt.xlabel('Epoch')\n",
        "plt.legend(['train', 'val'], loc = 'upper left')\n",
        "plt.show()"
      ],
      "metadata": {
        "id": "vHXSXsebjylM",
        "colab": {
          "base_uri": "https://localhost:8080/",
          "height": 295
        },
        "outputId": "495032b1-8925-4fba-8ed6-c75273b7a343"
      },
      "execution_count": null,
      "outputs": [
        {
          "output_type": "display_data",
          "data": {
            "text/plain": [
              "<Figure size 432x288 with 1 Axes>"
            ],
            "image/png": "[encoded data removed]"
          },
          "metadata": {
            "needs_background": "light"
          }
        }
      ]
    },
    {
      "cell_type": "code",
      "source": [
        "#Testing the model on the test data\n",
        "test_loss_cnn, test_accuracy_cnn = model_cnn.evaluate(X_test_scaled, y_test)"
      ],
      "metadata": {
        "id": "bAr9m-_VW5vC",
        "colab": {
          "base_uri": "https://localhost:8080/"
        },
        "outputId": "f4f228a4-ea5e-4898-cba7-3aa94a9f1015"
      },
      "execution_count": null,
      "outputs": [
        {
          "output_type": "stream",
          "name": "stdout",
          "text": [
            "313/313 [==============================] - 2s 8ms/step - loss: 0.8099 - sparse_categorical_accuracy: 0.7700\n"
          ]
        }
      ]
    },
    {
      "cell_type": "markdown",
      "source": [
        "# Model Evalution"
      ],
      "metadata": {
        "id": "2DEanrdE_k1S"
      }
    },
    {
      "cell_type": "code",
      "source": [
        "#Creating an empty dataframe to compare the results of all models\n",
        "df = pd.DataFrame()"
      ],
      "metadata": {
        "id": "1t6yaVXV_gRF"
      },
      "execution_count": null,
      "outputs": []
    },
    {
      "cell_type": "code",
      "source": [
        "#Creating Model Name Column and appending all the proposed model names\n",
        "df['Model Name'] = ['SVM without Kernel', 'SVM With Linear Kernel', 'SVM With Poly Kernel', 'SVM With RBF Kernel', 'Neural Network without CNN', 'Neural Network with CNN']"
      ],
      "metadata": {
        "id": "gzOei1wz_tvQ"
      },
      "execution_count": null,
      "outputs": []
    },
    {
      "cell_type": "code",
      "source": [
        "#Creating the Test Accuracy column and storing the accuracy on test data for all the 6 proposed models\n",
        "df['Test Accuracy'] = [test_acc_svm * 100, test_acc_linear * 100, test_acc_poly * 100, test_acc_rbf * 100, test_accuracy_wo_cnn * 100,  test_accuracy_cnn * 100 ]"
      ],
      "metadata": {
        "id": "pXnDy5zgAiTa"
      },
      "execution_count": null,
      "outputs": []
    },
    {
      "cell_type": "code",
      "source": [
        "df"
      ],
      "metadata": {
        "id": "jC9_IzcDAk9a",
        "colab": {
          "base_uri": "https://localhost:8080/",
          "height": 238
        },
        "outputId": "d21dd99e-5c4d-4409-9ba3-dbe4978cd488"
      },
      "execution_count": null,
      "outputs": [
        {
          "output_type": "execute_result",
          "data": {
            "text/plain": [
              "                   Model Name  Test Accuracy\n",
              "0          SVM without Kernel      10.000000\n",
              "1      SVM With Linear Kernel      26.090000\n",
              "2        SVM With Poly Kernel      25.560000\n",
              "3         SVM With RBF Kernel      10.000000\n",
              "4  Neural Network without CNN      50.660002\n",
              "5     Neural Network with CNN      76.999998"
            ],
            "text/html": [
              "\n",
              "  <div id=\"df-2e813cbe-7fb3-4e21-8255-e807d1c5e1a1\">\n",
              "    <div class=\"colab-df-container\">\n",
              "      <div>\n",
              "<style scoped>\n",
              "    .dataframe tbody tr th:only-of-type {\n",
              "        vertical-align: middle;\n",
              "    }\n",
              "\n",
              "    .dataframe tbody tr th {\n",
              "        vertical-align: top;\n",
              "    }\n",
              "\n",
              "    .dataframe thead th {\n",
              "        text-align: right;\n",
              "    }\n",
              "</style>\n",
              "<table border=\"1\" class=\"dataframe\">\n",
              "  <thead>\n",
              "    <tr style=\"text-align: right;\">\n",
              "      <th></th>\n",
              "      <th>Model Name</th>\n",
              "      <th>Test Accuracy</th>\n",
              "    </tr>\n",
              "  </thead>\n",
              "  <tbody>\n",
              "    <tr>\n",
              "      <th>0</th>\n",
              "      <td>SVM without Kernel</td>\n",
              "      <td>10.000000</td>\n",
              "    </tr>\n",
              "    <tr>\n",
              "      <th>1</th>\n",
              "      <td>SVM With Linear Kernel</td>\n",
              "      <td>26.090000</td>\n",
              "    </tr>\n",
              "    <tr>\n",
              "      <th>2</th>\n",
              "      <td>SVM With Poly Kernel</td>\n",
              "      <td>25.560000</td>\n",
              "    </tr>\n",
              "    <tr>\n",
              "      <th>3</th>\n",
              "      <td>SVM With RBF Kernel</td>\n",
              "      <td>10.000000</td>\n",
              "    </tr>\n",
              "    <tr>\n",
              "      <th>4</th>\n",
              "      <td>Neural Network without CNN</td>\n",
              "      <td>50.660002</td>\n",
              "    </tr>\n",
              "    <tr>\n",
              "      <th>5</th>\n",
              "      <td>Neural Network with CNN</td>\n",
              "      <td>76.999998</td>\n",
              "    </tr>\n",
              "  </tbody>\n",
              "</table>\n",
              "</div>\n",
              "      <button class=\"colab-df-convert\" onclick=\"convertToInteractive('df-2e813cbe-7fb3-4e21-8255-e807d1c5e1a1')\"\n",
              "              title=\"Convert this dataframe to an interactive table.\"\n",
              "              style=\"display:none;\">\n",
              "        \n",
              "  <svg xmlns=\"http://www.w3.org/2000/svg\" height=\"24px\"viewBox=\"0 0 24 24\"\n",
              "       width=\"24px\">\n",
              "    <path d=\"M0 0h24v24H0V0z\" fill=\"none\"/>\n",
              "    <path d=\"M18.56 5.44l.94 2.06.94-2.06 2.06-.94-2.06-.94-.94-2.06-.94 2.06-2.06.94zm-11 1L8.5 8.5l.94-2.06 2.06-.94-2.06-.94L8.5 2.5l-.94 2.06-2.06.94zm10 10l.94 2.06.94-2.06 2.06-.94-2.06-.94-.94-2.06-.94 2.06-2.06.94z\"/><path d=\"M17.41 7.96l-1.37-1.37c-.4-.4-.92-.59-1.43-.59-.52 0-1.04.2-1.43.59L10.3 9.45l-7.72 7.72c-.78.78-.78 2.05 0 2.83L4 21.41c.39.39.9.59 1.41.59.51 0 1.02-.2 1.41-.59l7.78-7.78 2.81-2.81c.8-.78.8-2.07 0-2.86zM5.41 20L4 18.59l7.72-7.72 1.47 1.35L5.41 20z\"/>\n",
              "  </svg>\n",
              "      </button>\n",
              "      \n",
              "  <style>\n",
              "    .colab-df-container {\n",
              "      display:flex;\n",
              "      flex-wrap:wrap;\n",
              "      gap: 12px;\n",
              "    }\n",
              "\n",
              "    .colab-df-convert {\n",
              "      background-color: #E8F0FE;\n",
              "      border: none;\n",
              "      border-radius: 50%;\n",
              "      cursor: pointer;\n",
              "      display: none;\n",
              "      fill: #1967D2;\n",
              "      height: 32px;\n",
              "      padding: 0 0 0 0;\n",
              "      width: 32px;\n",
              "    }\n",
              "\n",
              "    .colab-df-convert:hover {\n",
              "      background-color: #E2EBFA;\n",
              "      box-shadow: 0px 1px 2px rgba(60, 64, 67, 0.3), 0px 1px 3px 1px rgba(60, 64, 67, 0.15);\n",
              "      fill: #174EA6;\n",
              "    }\n",
              "\n",
              "    [theme=dark] .colab-df-convert {\n",
              "      background-color: #3B4455;\n",
              "      fill: #D2E3FC;\n",
              "    }\n",
              "\n",
              "    [theme=dark] .colab-df-convert:hover {\n",
              "      background-color: #434B5C;\n",
              "      box-shadow: 0px 1px 3px 1px rgba(0, 0, 0, 0.15);\n",
              "      filter: drop-shadow(0px 1px 2px rgba(0, 0, 0, 0.3));\n",
              "      fill: #FFFFFF;\n",
              "    }\n",
              "  </style>\n",
              "\n",
              "      <script>\n",
              "        const buttonEl =\n",
              "          document.querySelector('#df-2e813cbe-7fb3-4e21-8255-e807d1c5e1a1 button.colab-df-convert');\n",
              "        buttonEl.style.display =\n",
              "          google.colab.kernel.accessAllowed ? 'block' : 'none';\n",
              "\n",
              "        async function convertToInteractive(key) {\n",
              "          const element = document.querySelector('#df-2e813cbe-7fb3-4e21-8255-e807d1c5e1a1');\n",
              "          const dataTable =\n",
              "            await google.colab.kernel.invokeFunction('convertToInteractive',\n",
              "                                                     [key], {});\n",
              "          if (!dataTable) return;\n",
              "\n",
              "          const docLinkHtml = 'Like what you see? Visit the ' +\n",
              "            '<a target=\"_blank\" href=https://colab.research.google.com/notebooks/data_table.ipynb>data table notebook</a>'\n",
              "            + ' to learn more about interactive tables.';\n",
              "          element.innerHTML = '';\n",
              "          dataTable['output_type'] = 'display_data';\n",
              "          await google.colab.output.renderOutput(dataTable, element);\n",
              "          const docLink = document.createElement('div');\n",
              "          docLink.innerHTML = docLinkHtml;\n",
              "          element.appendChild(docLink);\n",
              "        }\n",
              "      </script>\n",
              "    </div>\n",
              "  </div>\n",
              "  "
            ]
          },
          "metadata": {},
          "execution_count": 44
        }
      ]
    },
    {
      "cell_type": "markdown",
      "source": [
        "Conclusion : From the above dataframe we can see that the Supervised Model such as SVM with different kernels give low accuracy ranging from 10 to 26% on test data which is low compared to neural networks with and without CNN. Moreover, the best model is the model with CNN layer having an accuracy of 77% on the test data."
      ],
      "metadata": {
        "id": "YcrG075Vwd1o"
      }
    }
  ]
}