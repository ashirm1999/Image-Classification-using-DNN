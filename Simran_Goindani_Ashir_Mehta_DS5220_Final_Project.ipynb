{
  "nbformat": 4,
  "nbformat_minor": 0,
  "metadata": {
    "colab": {
      "name": "Simran Goindani_Ashir Mehta DS5220 Final Project.ipynb",
      "provenance": [],
      "collapsed_sections": [],
      "authorship_tag": "ABX9TyPdOkQh+JRZNSF3QucrH/c4",
      "include_colab_link": true
    },
    "kernelspec": {
      "name": "python3",
      "display_name": "Python 3"
    },
    "language_info": {
      "name": "python"
    },
    "accelerator": "GPU"
  },
  "cells": [
    {
      "cell_type": "markdown",
      "metadata": {
        "id": "view-in-github",
        "colab_type": "text"
      },
      "source": [
        "<a href=\"https://colab.research.google.com/github/ashirm1999/SML-Project/blob/main/Simran_Goindani_Ashir_Mehta_DS5220_Final_Project.ipynb\" target=\"_parent\"><img src=\"https://colab.research.google.com/assets/colab-badge.svg\" alt=\"Open In Colab\"/></a>"
      ]
    },
    {
      "cell_type": "markdown",
      "source": [
        "## Importing Libraries"
      ],
      "metadata": {
        "id": "bkPhc4SKCl3r"
      }
    },
    {
      "cell_type": "code",
      "execution_count": 1,
      "metadata": {
        "id": "NKuFdKfNIf-H"
      },
      "outputs": [],
      "source": [
        "import keras\n",
        "from keras.datasets import cifar10\n",
        "from sklearn.model_selection import KFold\n",
        "from sklearn.model_selection import train_test_split as train_test_split\n",
        "from sklearn.preprocessing import StandardScaler, MinMaxScaler\n",
        "import sklearn.metrics as skm\n",
        "from sklearn import svm\n",
        "import os, time\n",
        "import matplotlib.pyplot as plt\n",
        "import numpy as np\n",
        "import time\n",
        "import pandas as pd"
      ]
    },
    {
      "cell_type": "markdown",
      "source": [
        "## Model Development"
      ],
      "metadata": {
        "id": "joJZqeNrDVII"
      }
    },
    {
      "cell_type": "markdown",
      "source": [
        "### SVM with different Kernel"
      ],
      "metadata": {
        "id": "s1hIlfmZDY9L"
      }
    },
    {
      "cell_type": "markdown",
      "source": [
        "#### Loading Data"
      ],
      "metadata": {
        "id": "wl6ZnlrnCpqY"
      }
    },
    {
      "cell_type": "code",
      "source": [
        "classesName = ['plane', 'car', 'bird', 'cat', 'deer', 'dog', 'frog', 'horse', 'ship', 'truck']"
      ],
      "metadata": {
        "id": "jqOscIsDC3Kb"
      },
      "execution_count": 2,
      "outputs": []
    },
    {
      "cell_type": "code",
      "source": [
        "(x_train, y_train), (x_test, y_test) = cifar10.load_data()\n",
        "x_val = x_train[49000:, :].astype(np.float)\n",
        "y_val = np.squeeze(y_train[49000:, :])\n",
        "x_train = x_train[:49000, :].astype(np.float)\n",
        "y_train = np.squeeze(y_train[:49000, :])\n",
        "y_test = np.squeeze(y_test)\n",
        "x_test = x_test.astype(np.float)"
      ],
      "metadata": {
        "colab": {
          "base_uri": "https://localhost:8080/"
        },
        "id": "gNwcCTGiCvU4",
        "outputId": "e2404353-d93f-496e-d3af-3ecd4d0e9ea6"
      },
      "execution_count": 3,
      "outputs": [
        {
          "output_type": "stream",
          "name": "stderr",
          "text": [
            "/usr/local/lib/python3.7/dist-packages/ipykernel_launcher.py:2: DeprecationWarning: `np.float` is a deprecated alias for the builtin `float`. To silence this warning, use `float` by itself. Doing this will not modify any behavior and is safe. If you specifically wanted the numpy scalar type, use `np.float64` here.\n",
            "Deprecated in NumPy 1.20; for more details and guidance: https://numpy.org/devdocs/release/1.20.0-notes.html#deprecations\n",
            "  \n",
            "/usr/local/lib/python3.7/dist-packages/ipykernel_launcher.py:4: DeprecationWarning: `np.float` is a deprecated alias for the builtin `float`. To silence this warning, use `float` by itself. Doing this will not modify any behavior and is safe. If you specifically wanted the numpy scalar type, use `np.float64` here.\n",
            "Deprecated in NumPy 1.20; for more details and guidance: https://numpy.org/devdocs/release/1.20.0-notes.html#deprecations\n",
            "  after removing the cwd from sys.path.\n",
            "/usr/local/lib/python3.7/dist-packages/ipykernel_launcher.py:7: DeprecationWarning: `np.float` is a deprecated alias for the builtin `float`. To silence this warning, use `float` by itself. Doing this will not modify any behavior and is safe. If you specifically wanted the numpy scalar type, use `np.float64` here.\n",
            "Deprecated in NumPy 1.20; for more details and guidance: https://numpy.org/devdocs/release/1.20.0-notes.html#deprecations\n",
            "  import sys\n"
          ]
        }
      ]
    },
    {
      "cell_type": "code",
      "source": [
        "print(\"Train image shape \" , x_train.shape)\n",
        "print(\"Train label shape :\", y_train.shape)\n",
        "print(\"Validate image shape :\", x_val.shape)\n",
        "print(\"Validate label shape : \", y_val.shape)\n",
        "print(\"Test image shape : \", x_test.shape)\n",
        "print(\"Test label shape : \", y_test.shape)"
      ],
      "metadata": {
        "colab": {
          "base_uri": "https://localhost:8080/"
        },
        "id": "2RmOCOj6DR5n",
        "outputId": "e00bcc63-c388-471f-c3b8-5cda3efe86d1"
      },
      "execution_count": 4,
      "outputs": [
        {
          "output_type": "stream",
          "name": "stdout",
          "text": [
            "Train image shape  (49000, 32, 32, 3)\n",
            "Train label shape : (49000,)\n",
            "Validate image shape : (1000, 32, 32, 3)\n",
            "Validate label shape :  (1000,)\n",
            "Test image shape :  (10000, 32, 32, 3)\n",
            "Test label shape :  (10000,)\n"
          ]
        }
      ]
    },
    {
      "cell_type": "markdown",
      "source": [
        "#### Reshaping and Normalizing Data"
      ],
      "metadata": {
        "id": "Wdh4Nsb0E32z"
      }
    },
    {
      "cell_type": "code",
      "source": [
        "print(x_train.shape)\n",
        "print(y_train.shape)\n",
        "\n",
        "x_train = np.reshape(x_train, (x_train.shape[0], -1)) \n",
        "x_val = np.reshape(x_val, (x_val.shape[0], -1))\n",
        "x_test = np.reshape(x_test, (x_test.shape[0], -1))\n",
        "\n",
        "#Normalizing\n",
        "x_train = ((x_train / 255) * 2) - 1 "
      ],
      "metadata": {
        "colab": {
          "base_uri": "https://localhost:8080/"
        },
        "id": "aeeewXzdE1-S",
        "outputId": "65444866-7722-46a3-b76d-bacd8bfa2da8"
      },
      "execution_count": 5,
      "outputs": [
        {
          "output_type": "stream",
          "name": "stdout",
          "text": [
            "(49000, 32, 32, 3)\n",
            "(49000,)\n"
          ]
        }
      ]
    },
    {
      "cell_type": "code",
      "source": [
        "#Selecting a smaller subset of data\n",
        "x_train = x_train[:3000,:]\n",
        "y_train = y_train[:3000]\n",
        "print(y_train)\n",
        "print(x_train.shape)\n",
        "print(y_train.shape)"
      ],
      "metadata": {
        "colab": {
          "base_uri": "https://localhost:8080/"
        },
        "id": "NDYx9U8hFS2J",
        "outputId": "5270db1c-c401-4029-e254-e8f61384793a"
      },
      "execution_count": 6,
      "outputs": [
        {
          "output_type": "stream",
          "name": "stdout",
          "text": [
            "[6 9 9 ... 6 6 4]\n",
            "(3000, 3072)\n",
            "(3000,)\n"
          ]
        }
      ]
    },
    {
      "cell_type": "markdown",
      "source": [
        "#### SVM Model"
      ],
      "metadata": {
        "id": "2efuoD4wTvLF"
      }
    },
    {
      "cell_type": "code",
      "source": [
        "def svm_models_acc(model, x_test, y_test):\n",
        "  \n",
        "  return np.mean(model.predict(x_test) == y_test)"
      ],
      "metadata": {
        "id": "BaaH9bZZdaTl"
      },
      "execution_count": 7,
      "outputs": []
    },
    {
      "cell_type": "code",
      "source": [
        "def svm_models(x_train, y_train, x_val, y_val, x_test, y_test, kernel, c):\n",
        "  train_acc, val_acc = [], []\n",
        "\n",
        "  if kernel == \"rbf\":\n",
        "    for i in c:\n",
        "      svm_model = svm.SVC(probability = False, kernel = kernel, C = i, gamma = 'auto')\n",
        "      svm_model.fit(x_train, y_train)\n",
        "\n",
        "      ypred_train = svm_model.predict(x_train)\n",
        "      acc_train = np.mean(ypred_train == y_train)\n",
        "      train_acc.append(acc_train)\n",
        "\n",
        "      ypred_test = svm_model.predict(x_val)\n",
        "      acc_test = np.mean(ypred_test == y_val)\n",
        "      val_acc.append(acc_test)\n",
        "\n",
        "      if i == 1:\n",
        "        test_acc = svm_models_acc(svm_model, x_test, y_test)\n",
        "\n",
        "    plt.plot(c, train_acc,'.-',color = 'red')\n",
        "    plt.plot(c, val_acc,'.-',color = 'orange')\n",
        "    plt.xlabel('c')\n",
        "    plt.ylabel('Accuracy')\n",
        "    plt.title(\"Accuracy vs c for training and test data with \" + str(kernel) + \" kernel\")\n",
        "    plt.legend([\"train\", \"val\"])\n",
        "    plt.grid()\n",
        "    plt.show()\n",
        "\n",
        "    return test_acc\n",
        "\n",
        "  elif kernel == 'No kernel':\n",
        "    for i in c:\n",
        "      svm_model = svm.SVC(probability = False, C = i)\n",
        "      svm_model.fit(x_train, y_train)\n",
        "\n",
        "      ypred_train = svm_model.predict(x_train)\n",
        "      acc_train = np.mean(ypred_train == y_train)\n",
        "      train_acc.append(acc_train)\n",
        "\n",
        "      ypred_test = svm_model.predict(x_val)\n",
        "      acc_test = np.mean(ypred_test == y_val)\n",
        "      val_acc.append(acc_test)\n",
        "\n",
        "      if i == 1:\n",
        "        test_acc = svm_models_acc(svm_model, x_test, y_test)\n",
        "\n",
        "    plt.plot(c, train_acc,'.-',color = 'red')\n",
        "    plt.plot(c, val_acc,'.-',color = 'orange')\n",
        "    plt.xlabel('c')\n",
        "    plt.ylabel('Accuracy')\n",
        "    plt.title(\"Accuracy vs c for training and test data without kernel\")\n",
        "    plt.legend([\"train\", \"val\"])\n",
        "    plt.grid()\n",
        "    plt.show()\n",
        "\n",
        "    return test_acc\n",
        "\n",
        "  else:\n",
        "\n",
        "    for i in c:\n",
        "      svm_model = svm.SVC(probability = False, kernel = kernel, C = i)\n",
        "      svm_model.fit(x_train, y_train)\n",
        "\n",
        "      ypred_train = svm_model.predict(x_train)\n",
        "      acc_train = np.mean(ypred_train == y_train)\n",
        "      train_acc.append(acc_train)\n",
        "\n",
        "      ypred_test = svm_model.predict(x_val)\n",
        "      acc_test = np.mean(ypred_test == y_val)\n",
        "      val_acc.append(acc_test)\n",
        "\n",
        "      if i == 1:\n",
        "        test_acc = svm_models_acc(svm_model, x_test, y_test)\n",
        "\n",
        "    plt.plot(c, train_acc, '.-', color = 'red')\n",
        "    plt.plot(c, val_acc, '.-', color = 'orange')\n",
        "    plt.xlabel('c')\n",
        "    plt.ylabel('Accuracy')\n",
        "    plt.title(\"Accuracy vs c for training and test data with \" + str(kernel) + \" kernel\")\n",
        "    plt.legend([\"train\", \"val\"])\n",
        "    plt.grid()\n",
        "    plt.show()\n",
        "\n",
        "    return test_acc"
      ],
      "metadata": {
        "id": "b723fWdqFS0D"
      },
      "execution_count": 8,
      "outputs": []
    },
    {
      "cell_type": "markdown",
      "source": [
        "#### Model - 1 SVM without Kernel"
      ],
      "metadata": {
        "id": "RrjlYRxDIoqa"
      }
    },
    {
      "cell_type": "code",
      "source": [
        "c_svm = [0.0001, 0.001, 0.01, 0.1, 1, 10, 100]\n",
        "test_acc_svm = svm_models(x_train, y_train, x_val, y_val, x_test, y_test, 'No kernel', c_svm)"
      ],
      "metadata": {
        "colab": {
          "base_uri": "https://localhost:8080/",
          "height": 295
        },
        "id": "o9VK6LNiInRh",
        "outputId": "f4b8177b-f3ee-409e-df01-00ac0dbfad7c"
      },
      "execution_count": 9,
      "outputs": [
        {
          "output_type": "display_data",
          "data": {
            "text/plain": [
              "<Figure size 432x288 with 1 Axes>"
            ],
            "image/png": "[encoded data removed]"
          },
          "metadata": {
            "needs_background": "light"
          }
        }
      ]
    },
    {
      "cell_type": "markdown",
      "source": [
        "#### Model - 2 SVM with Linear Kernel"
      ],
      "metadata": {
        "id": "UfToz6YhTyob"
      }
    },
    {
      "cell_type": "code",
      "source": [
        "c_svm_linear = [0.0001, 0.001, 0.01, 0.1, 1, 10, 100]\n",
        "test_acc_linear = svm_models(x_train, y_train, x_val, y_val, x_test, y_test, 'linear', c_svm_linear)"
      ],
      "metadata": {
        "colab": {
          "base_uri": "https://localhost:8080/",
          "height": 295
        },
        "id": "qKHRZX-dFSpZ",
        "outputId": "3ccc4e4b-33ea-4373-83a4-e20f050816d8"
      },
      "execution_count": 10,
      "outputs": [
        {
          "output_type": "display_data",
          "data": {
            "text/plain": [
              "<Figure size 432x288 with 1 Axes>"
            ],
            "image/png": "[encoded data removed]"
          },
          "metadata": {
            "needs_background": "light"
          }
        }
      ]
    },
    {
      "cell_type": "markdown",
      "source": [
        "#### Model - 3 SVM with Polynomial Kernel"
      ],
      "metadata": {
        "id": "o5NvRDDdT03q"
      }
    },
    {
      "cell_type": "code",
      "source": [
        "c_svm_poly = [0.0001, 0.001, 0.01, 0.1, 1, 10, 100]\n",
        "test_acc_poly = svm_models(x_train, y_train, x_val, y_val, x_test, y_test, 'poly', c_svm_poly)"
      ],
      "metadata": {
        "colab": {
          "base_uri": "https://localhost:8080/",
          "height": 295
        },
        "id": "R2M6hNiWMWGM",
        "outputId": "1044d12b-3877-4742-f2ee-be6d8daed17a"
      },
      "execution_count": 11,
      "outputs": [
        {
          "output_type": "display_data",
          "data": {
            "text/plain": [
              "<Figure size 432x288 with 1 Axes>"
            ],
            "image/png": "[encoded data removed]"
          },
          "metadata": {
            "needs_background": "light"
          }
        }
      ]
    },
    {
      "cell_type": "markdown",
      "source": [
        "#### Model - 4 SVM with RBF Kernel"
      ],
      "metadata": {
        "id": "R6EJxl9WT7NZ"
      }
    },
    {
      "cell_type": "code",
      "source": [
        "c_svm_rbf = [0.0001, 0.001, 0.01, 0.1, 1, 10, 100]\n",
        "test_acc_rbf = svm_models(x_train, y_train, x_val, y_val, x_test, y_test, 'rbf', c_svm_poly)"
      ],
      "metadata": {
        "colab": {
          "base_uri": "https://localhost:8080/",
          "height": 295
        },
        "id": "nVdZiHWlFSmz",
        "outputId": "401a751d-3af7-48f8-92a2-96619f3c5b19"
      },
      "execution_count": 12,
      "outputs": [
        {
          "output_type": "display_data",
          "data": {
            "text/plain": [
              "<Figure size 432x288 with 1 Axes>"
            ],
            "image/png": "[encoded data removed]"
          },
          "metadata": {
            "needs_background": "light"
          }
        }
      ]
    },
    {
      "cell_type": "markdown",
      "source": [
        "### Model - 5 DNN without CNN"
      ],
      "metadata": {
        "id": "Qy-7JZ1TUPxy"
      }
    },
    {
      "cell_type": "code",
      "source": [
        "num_classes = 10\n",
        "\n",
        "(x_train, y_train), (x_test, y_test) = cifar10.load_data()  \n",
        "\n",
        "print()\n",
        "print('Training Data shape:', x_train.shape)\n",
        "print(\"Number of Training Samples\", x_train.shape[0])\n",
        "print(\"Number of Testing Samples\", x_test.shape[0])\n",
        "\n",
        "# Converting to Categorical Classes\n",
        "y_train = keras.utils.np_utils.to_categorical(y_train, num_classes)\n",
        "y_test = keras.utils.np_utils.to_categorical(y_test, num_classes)"
      ],
      "metadata": {
        "colab": {
          "base_uri": "https://localhost:8080/"
        },
        "id": "U57ilqfMIz9r",
        "outputId": "b1769785-d37e-4b54-8f99-af9905e8ddcd"
      },
      "execution_count": 13,
      "outputs": [
        {
          "output_type": "stream",
          "name": "stdout",
          "text": [
            "\n",
            "Training Data shape: (50000, 32, 32, 3)\n",
            "Number of Training Samples 50000\n",
            "Number of Testing Samples 10000\n"
          ]
        }
      ]
    },
    {
      "cell_type": "markdown",
      "source": [
        "#### Pre - Processing"
      ],
      "metadata": {
        "id": "zWnasLGP_X2V"
      }
    },
    {
      "cell_type": "code",
      "source": [
        "x_train, x_val, y_train, y_val = train_test_split(x_train, y_train, test_size = 0.25, random_state = 42) "
      ],
      "metadata": {
        "id": "QQVYD0CZACk8"
      },
      "execution_count": 14,
      "outputs": []
    },
    {
      "cell_type": "code",
      "source": [
        "print(\"Number of Training Samples\", x_train.shape[0])\n",
        "print(\"Number of Validation Samples\", x_val.shape[0])\n",
        "print(\"Number of Testing Samples\", x_test.shape[0])"
      ],
      "metadata": {
        "colab": {
          "base_uri": "https://localhost:8080/"
        },
        "id": "dE_cQ015ALZh",
        "outputId": "766f1564-76e1-439a-acc7-732f46fc02a7"
      },
      "execution_count": 15,
      "outputs": [
        {
          "output_type": "stream",
          "name": "stdout",
          "text": [
            "Number of Training Samples 37500\n",
            "Number of Validation Samples 12500\n",
            "Number of Testing Samples 10000\n"
          ]
        }
      ]
    },
    {
      "cell_type": "code",
      "source": [
        "X_train_scaled = x_train / 255\n",
        "X_val_scaled = x_val / 255\n",
        "X_test_scaled = x_test / 255"
      ],
      "metadata": {
        "id": "oEulfxuwQFvH"
      },
      "execution_count": 16,
      "outputs": []
    },
    {
      "cell_type": "code",
      "source": [
        "# Creating Neural Network without CNN\n",
        "model = keras.Sequential([\n",
        "        keras.layers.Flatten(input_shape = (32, 32, 3)),\n",
        "        keras.layers.Dense(3000, activation = 'relu'),\n",
        "        keras.layers.Dense(1000, activation = 'relu'),\n",
        "        keras.layers.Dense(10, activation = 'sigmoid')\n",
        "    ])\n",
        "\n",
        "model.compile(optimizer = 'SGD', loss = 'categorical_crossentropy', metrics = ['accuracy'])"
      ],
      "metadata": {
        "id": "kXqhimr4QXWh"
      },
      "execution_count": 17,
      "outputs": []
    },
    {
      "cell_type": "code",
      "source": [
        "history = model.fit(X_train_scaled, y_train, epochs = 25, validation_data = (X_val_scaled, y_val))"
      ],
      "metadata": {
        "colab": {
          "base_uri": "https://localhost:8080/"
        },
        "id": "kPHgX6qrQavW",
        "outputId": "bb01b887-798e-46fa-9b97-61475347d9e9"
      },
      "execution_count": 18,
      "outputs": [
        {
          "output_type": "stream",
          "name": "stdout",
          "text": [
            "Epoch 1/25\n",
            "1172/1172 [==============================] - 13s 11ms/step - loss: 1.8484 - accuracy: 0.3418 - val_loss: 1.7080 - val_accuracy: 0.3872\n",
            "Epoch 2/25\n",
            "1172/1172 [==============================] - 11s 9ms/step - loss: 1.6600 - accuracy: 0.4148 - val_loss: 1.6332 - val_accuracy: 0.4242\n",
            "Epoch 3/25\n",
            "1172/1172 [==============================] - 10s 9ms/step - loss: 1.5758 - accuracy: 0.4444 - val_loss: 1.5649 - val_accuracy: 0.4462\n",
            "Epoch 4/25\n",
            "1172/1172 [==============================] - 12s 10ms/step - loss: 1.5208 - accuracy: 0.4633 - val_loss: 1.5327 - val_accuracy: 0.4602\n",
            "Epoch 5/25\n",
            "1172/1172 [==============================] - 11s 10ms/step - loss: 1.4678 - accuracy: 0.4833 - val_loss: 1.5805 - val_accuracy: 0.4262\n",
            "Epoch 6/25\n",
            "1172/1172 [==============================] - 12s 10ms/step - loss: 1.4291 - accuracy: 0.4995 - val_loss: 1.5367 - val_accuracy: 0.4416\n",
            "Epoch 7/25\n",
            "1172/1172 [==============================] - 11s 10ms/step - loss: 1.3897 - accuracy: 0.5085 - val_loss: 1.4818 - val_accuracy: 0.4818\n",
            "Epoch 8/25\n",
            "1172/1172 [==============================] - 11s 10ms/step - loss: 1.3567 - accuracy: 0.5239 - val_loss: 1.4277 - val_accuracy: 0.4965\n",
            "Epoch 9/25\n",
            "1172/1172 [==============================] - 10s 9ms/step - loss: 1.3221 - accuracy: 0.5374 - val_loss: 1.3961 - val_accuracy: 0.5079\n",
            "Epoch 10/25\n",
            "1172/1172 [==============================] - 10s 9ms/step - loss: 1.2911 - accuracy: 0.5481 - val_loss: 1.3957 - val_accuracy: 0.5061\n",
            "Epoch 11/25\n",
            "1172/1172 [==============================] - 10s 9ms/step - loss: 1.2626 - accuracy: 0.5599 - val_loss: 1.4405 - val_accuracy: 0.4954\n",
            "Epoch 12/25\n",
            "1172/1172 [==============================] - 11s 10ms/step - loss: 1.2322 - accuracy: 0.5672 - val_loss: 1.5277 - val_accuracy: 0.4698\n",
            "Epoch 13/25\n",
            "1172/1172 [==============================] - 10s 9ms/step - loss: 1.2058 - accuracy: 0.5786 - val_loss: 1.3832 - val_accuracy: 0.5064\n",
            "Epoch 14/25\n",
            "1172/1172 [==============================] - 11s 10ms/step - loss: 1.1800 - accuracy: 0.5897 - val_loss: 1.3645 - val_accuracy: 0.5225\n",
            "Epoch 15/25\n",
            "1172/1172 [==============================] - 11s 10ms/step - loss: 1.1543 - accuracy: 0.5952 - val_loss: 1.3438 - val_accuracy: 0.5252\n",
            "Epoch 16/25\n",
            "1172/1172 [==============================] - 11s 10ms/step - loss: 1.1249 - accuracy: 0.6080 - val_loss: 1.3622 - val_accuracy: 0.5238\n",
            "Epoch 17/25\n",
            "1172/1172 [==============================] - 11s 10ms/step - loss: 1.1015 - accuracy: 0.6155 - val_loss: 1.4326 - val_accuracy: 0.4971\n",
            "Epoch 18/25\n",
            "1172/1172 [==============================] - 11s 10ms/step - loss: 1.0728 - accuracy: 0.6259 - val_loss: 1.3855 - val_accuracy: 0.5122\n",
            "Epoch 19/25\n",
            "1172/1172 [==============================] - 11s 10ms/step - loss: 1.0483 - accuracy: 0.6382 - val_loss: 1.4139 - val_accuracy: 0.5138\n",
            "Epoch 20/25\n",
            "1172/1172 [==============================] - 11s 10ms/step - loss: 1.0225 - accuracy: 0.6446 - val_loss: 1.3911 - val_accuracy: 0.5171\n",
            "Epoch 21/25\n",
            "1172/1172 [==============================] - 11s 10ms/step - loss: 0.9980 - accuracy: 0.6543 - val_loss: 1.3290 - val_accuracy: 0.5382\n",
            "Epoch 22/25\n",
            "1172/1172 [==============================] - 12s 10ms/step - loss: 0.9763 - accuracy: 0.6610 - val_loss: 1.4312 - val_accuracy: 0.5018\n",
            "Epoch 23/25\n",
            "1172/1172 [==============================] - 12s 10ms/step - loss: 0.9486 - accuracy: 0.6724 - val_loss: 1.3284 - val_accuracy: 0.5414\n",
            "Epoch 24/25\n",
            "1172/1172 [==============================] - 11s 10ms/step - loss: 0.9260 - accuracy: 0.6781 - val_loss: 1.3373 - val_accuracy: 0.5365\n",
            "Epoch 25/25\n",
            "1172/1172 [==============================] - 11s 10ms/step - loss: 0.8960 - accuracy: 0.6895 - val_loss: 1.3718 - val_accuracy: 0.5358\n"
          ]
        }
      ]
    },
    {
      "cell_type": "code",
      "source": [
        "plt.plot(history.history['accuracy'])\n",
        "plt.plot(history.history['val_accuracy'])\n",
        "plt.title('model accuracy')\n",
        "plt.ylabel('Accuracy')\n",
        "plt.xlabel('Epoch')\n",
        "plt.legend(['Train', 'Val'], loc = 'upper left')\n",
        "plt.show()"
      ],
      "metadata": {
        "colab": {
          "base_uri": "https://localhost:8080/",
          "height": 295
        },
        "id": "6f5jd1qKBOYu",
        "outputId": "4fb4b3ed-9efe-4d7a-81e0-f62001b21f88"
      },
      "execution_count": 19,
      "outputs": [
        {
          "output_type": "display_data",
          "data": {
            "text/plain": [
              "<Figure size 432x288 with 1 Axes>"
            ],
            "image/png": "[encoded data removed]"
          },
          "metadata": {
            "needs_background": "light"
          }
        }
      ]
    },
    {
      "cell_type": "code",
      "source": [
        "plt.plot(history.history['loss'])\n",
        "plt.plot(history.history['val_loss'])\n",
        "plt.title('Model loss')\n",
        "plt.ylabel('Loss')\n",
        "plt.xlabel('Epoch')\n",
        "plt.legend(['train', 'val'], loc = 'upper left')\n",
        "plt.show()"
      ],
      "metadata": {
        "colab": {
          "base_uri": "https://localhost:8080/",
          "height": 295
        },
        "id": "rAb4l7VvBOUR",
        "outputId": "f6d461d5-9b36-4322-810c-79ceed9fff31"
      },
      "execution_count": 20,
      "outputs": [
        {
          "output_type": "display_data",
          "data": {
            "text/plain": [
              "<Figure size 432x288 with 1 Axes>"
            ],
            "image/png": "[encoded data removed]"
          },
          "metadata": {
            "needs_background": "light"
          }
        }
      ]
    },
    {
      "cell_type": "code",
      "source": [
        "test_loss_wo_cnn, test_accuracy_wo_cnn = model.evaluate(X_test_scaled, y_test)"
      ],
      "metadata": {
        "colab": {
          "base_uri": "https://localhost:8080/"
        },
        "id": "MtZmnwloQhN-",
        "outputId": "1eaf0490-7457-41fe-bedb-d5053ccb4cb0"
      },
      "execution_count": 21,
      "outputs": [
        {
          "output_type": "stream",
          "name": "stdout",
          "text": [
            "313/313 [==============================] - 2s 5ms/step - loss: 1.3634 - accuracy: 0.5329\n"
          ]
        }
      ]
    },
    {
      "cell_type": "markdown",
      "source": [
        "### Model - 6 DNN with CNN"
      ],
      "metadata": {
        "id": "_6NJz6YKWIqr"
      }
    },
    {
      "cell_type": "code",
      "source": [
        "import tensorflow as tf"
      ],
      "metadata": {
        "id": "YyiGWjfHWkoR"
      },
      "execution_count": 22,
      "outputs": []
    },
    {
      "cell_type": "code",
      "source": [
        "num_classes = 10\n",
        "\n",
        "(x_train, y_train), (x_test, y_test) = cifar10.load_data()  \n",
        "\n",
        "print()\n",
        "print('Training Data shape:', x_train.shape)\n",
        "print(\"Number of Training Samples\", x_train.shape[0])\n",
        "print(\"Number of Testing Samples\", x_test.shape[0])"
      ],
      "metadata": {
        "colab": {
          "base_uri": "https://localhost:8080/"
        },
        "id": "xk3Y5McVWHy8",
        "outputId": "9575b44a-66f6-4182-84e1-c4e25b61e570"
      },
      "execution_count": 23,
      "outputs": [
        {
          "output_type": "stream",
          "name": "stdout",
          "text": [
            "\n",
            "Training Data shape: (50000, 32, 32, 3)\n",
            "Number of Training Samples 50000\n",
            "Number of Testing Samples 10000\n"
          ]
        }
      ]
    },
    {
      "cell_type": "code",
      "source": [
        "x_train, x_val, y_train, y_val = train_test_split(x_train, y_train, test_size = 0.25, random_state = 42) "
      ],
      "metadata": {
        "id": "9ciBBj7bYIxE"
      },
      "execution_count": 24,
      "outputs": []
    },
    {
      "cell_type": "code",
      "source": [
        "X_train_scaled = x_train / 255\n",
        "X_val_scaled = x_val / 255\n",
        "X_test_scaled = x_test / 255"
      ],
      "metadata": {
        "id": "RvABOn8GXDpb"
      },
      "execution_count": 25,
      "outputs": []
    },
    {
      "cell_type": "code",
      "source": [
        "plt.imshow(x_test[217])"
      ],
      "metadata": {
        "colab": {
          "base_uri": "https://localhost:8080/",
          "height": 284
        },
        "id": "3_46OO2bWHtx",
        "outputId": "276d18f3-3556-4c8d-f3d8-5d48cbbedbf9"
      },
      "execution_count": 26,
      "outputs": [
        {
          "output_type": "execute_result",
          "data": {
            "text/plain": [
              "<matplotlib.image.AxesImage at 0x7f88907d2ad0>"
            ]
          },
          "metadata": {},
          "execution_count": 26
        },
        {
          "output_type": "display_data",
          "data": {
            "text/plain": [
              "<Figure size 432x288 with 1 Axes>"
            ],
            "image/png": "[encoded data removed]"
          },
          "metadata": {
            "needs_background": "light"
          }
        }
      ]
    },
    {
      "cell_type": "code",
      "source": [
        "model_cnn = tf.keras.models.Sequential()\n",
        "model_cnn.add(tf.keras.layers.Conv2D(filters=32,kernel_size=3,padding=\"same\", activation=\"relu\", input_shape=[32,32,3]))\n",
        "model_cnn.add(tf.keras.layers.Conv2D(filters=32,kernel_size=3,padding=\"same\", activation=\"relu\"))\n",
        "model_cnn.add(tf.keras.layers.MaxPool2D(pool_size=2,strides=2,padding='valid'))\n",
        "model_cnn.add(tf.keras.layers.Conv2D(filters=64,kernel_size=3,padding=\"same\", activation=\"relu\"))\n",
        "model_cnn.add(tf.keras.layers.Conv2D(filters=64,kernel_size=3,padding=\"same\", activation=\"relu\"))\n",
        "model_cnn.add(tf.keras.layers.MaxPool2D(pool_size=2,strides=2,padding='valid'))\n",
        "model_cnn.add(tf.keras.layers.Flatten())\n",
        "model_cnn.add(tf.keras.layers.Dropout(0.5,noise_shape=None,seed=None))\n",
        "model_cnn.add(tf.keras.layers.Dense(units = 128,activation='relu'))\n",
        "model_cnn.add(tf.keras.layers.Dense(units = 10,activation='softmax'))"
      ],
      "metadata": {
        "id": "IiQ_1-YDWHq5"
      },
      "execution_count": 27,
      "outputs": []
    },
    {
      "cell_type": "code",
      "source": [
        "model_cnn.summary()"
      ],
      "metadata": {
        "colab": {
          "base_uri": "https://localhost:8080/"
        },
        "id": "vv5TZmvWWHnz",
        "outputId": "60081780-8db3-47c1-b80f-90fc63b95ff5"
      },
      "execution_count": 28,
      "outputs": [
        {
          "output_type": "stream",
          "name": "stdout",
          "text": [
            "Model: \"sequential_1\"\n",
            "_________________________________________________________________\n",
            " Layer (type)                Output Shape              Param #   \n",
            "=================================================================\n",
            " conv2d (Conv2D)             (None, 32, 32, 32)        896       \n",
            "                                                                 \n",
            " conv2d_1 (Conv2D)           (None, 32, 32, 32)        9248      \n",
            "                                                                 \n",
            " max_pooling2d (MaxPooling2D  (None, 16, 16, 32)       0         \n",
            " )                                                               \n",
            "                                                                 \n",
            " conv2d_2 (Conv2D)           (None, 16, 16, 64)        18496     \n",
            "                                                                 \n",
            " conv2d_3 (Conv2D)           (None, 16, 16, 64)        36928     \n",
            "                                                                 \n",
            " max_pooling2d_1 (MaxPooling  (None, 8, 8, 64)         0         \n",
            " 2D)                                                             \n",
            "                                                                 \n",
            " flatten_1 (Flatten)         (None, 4096)              0         \n",
            "                                                                 \n",
            " dropout (Dropout)           (None, 4096)              0         \n",
            "                                                                 \n",
            " dense_3 (Dense)             (None, 128)               524416    \n",
            "                                                                 \n",
            " dense_4 (Dense)             (None, 10)                1290      \n",
            "                                                                 \n",
            "=================================================================\n",
            "Total params: 591,274\n",
            "Trainable params: 591,274\n",
            "Non-trainable params: 0\n",
            "_________________________________________________________________\n"
          ]
        }
      ]
    },
    {
      "cell_type": "code",
      "source": [
        "model_cnn.compile(loss = \"sparse_categorical_crossentropy\", optimizer=\"Adam\", metrics=[\"sparse_categorical_accuracy\"])"
      ],
      "metadata": {
        "id": "he9loeQ8WHlM"
      },
      "execution_count": 29,
      "outputs": []
    },
    {
      "cell_type": "code",
      "source": [
        "history1 = model_cnn.fit(X_train_scaled, y_train, epochs = 25, validation_data = (X_val_scaled, y_val))"
      ],
      "metadata": {
        "colab": {
          "base_uri": "https://localhost:8080/"
        },
        "id": "ywHVT4OhWHhy",
        "outputId": "08fb5f83-8d15-49a1-ed7f-5f50d9b87e0d"
      },
      "execution_count": 30,
      "outputs": [
        {
          "output_type": "stream",
          "name": "stdout",
          "text": [
            "Epoch 1/25\n",
            "1172/1172 [==============================] - 19s 15ms/step - loss: 1.5296 - sparse_categorical_accuracy: 0.4411 - val_loss: 1.1728 - val_sparse_categorical_accuracy: 0.5839\n",
            "Epoch 2/25\n",
            "1172/1172 [==============================] - 16s 14ms/step - loss: 1.1121 - sparse_categorical_accuracy: 0.6032 - val_loss: 0.9809 - val_sparse_categorical_accuracy: 0.6509\n",
            "Epoch 3/25\n",
            "1172/1172 [==============================] - 16s 14ms/step - loss: 0.9407 - sparse_categorical_accuracy: 0.6663 - val_loss: 0.8831 - val_sparse_categorical_accuracy: 0.6876\n",
            "Epoch 4/25\n",
            "1172/1172 [==============================] - 17s 14ms/step - loss: 0.8380 - sparse_categorical_accuracy: 0.7030 - val_loss: 0.8297 - val_sparse_categorical_accuracy: 0.7095\n",
            "Epoch 5/25\n",
            "1172/1172 [==============================] - 17s 14ms/step - loss: 0.7645 - sparse_categorical_accuracy: 0.7301 - val_loss: 0.7456 - val_sparse_categorical_accuracy: 0.7370\n",
            "Epoch 6/25\n",
            "1172/1172 [==============================] - 17s 14ms/step - loss: 0.7040 - sparse_categorical_accuracy: 0.7489 - val_loss: 0.7390 - val_sparse_categorical_accuracy: 0.7406\n",
            "Epoch 7/25\n",
            "1172/1172 [==============================] - 16s 14ms/step - loss: 0.6515 - sparse_categorical_accuracy: 0.7674 - val_loss: 0.7104 - val_sparse_categorical_accuracy: 0.7503\n",
            "Epoch 8/25\n",
            "1172/1172 [==============================] - 17s 14ms/step - loss: 0.6159 - sparse_categorical_accuracy: 0.7799 - val_loss: 0.7520 - val_sparse_categorical_accuracy: 0.7437\n",
            "Epoch 9/25\n",
            "1172/1172 [==============================] - 17s 15ms/step - loss: 0.5715 - sparse_categorical_accuracy: 0.7963 - val_loss: 0.6940 - val_sparse_categorical_accuracy: 0.7631\n",
            "Epoch 10/25\n",
            "1172/1172 [==============================] - 17s 15ms/step - loss: 0.5413 - sparse_categorical_accuracy: 0.8083 - val_loss: 0.7205 - val_sparse_categorical_accuracy: 0.7567\n",
            "Epoch 11/25\n",
            "1172/1172 [==============================] - 16s 14ms/step - loss: 0.5037 - sparse_categorical_accuracy: 0.8181 - val_loss: 0.6798 - val_sparse_categorical_accuracy: 0.7674\n",
            "Epoch 12/25\n",
            "1172/1172 [==============================] - 16s 14ms/step - loss: 0.4843 - sparse_categorical_accuracy: 0.8278 - val_loss: 0.6960 - val_sparse_categorical_accuracy: 0.7667\n",
            "Epoch 13/25\n",
            "1172/1172 [==============================] - 16s 14ms/step - loss: 0.4557 - sparse_categorical_accuracy: 0.8366 - val_loss: 0.7127 - val_sparse_categorical_accuracy: 0.7611\n",
            "Epoch 14/25\n",
            "1172/1172 [==============================] - 17s 14ms/step - loss: 0.4388 - sparse_categorical_accuracy: 0.8404 - val_loss: 0.7085 - val_sparse_categorical_accuracy: 0.7698\n",
            "Epoch 15/25\n",
            "1172/1172 [==============================] - 17s 15ms/step - loss: 0.4176 - sparse_categorical_accuracy: 0.8502 - val_loss: 0.7131 - val_sparse_categorical_accuracy: 0.7707\n",
            "Epoch 16/25\n",
            "1172/1172 [==============================] - 17s 15ms/step - loss: 0.3910 - sparse_categorical_accuracy: 0.8609 - val_loss: 0.7227 - val_sparse_categorical_accuracy: 0.7666\n",
            "Epoch 17/25\n",
            "1172/1172 [==============================] - 17s 14ms/step - loss: 0.3821 - sparse_categorical_accuracy: 0.8620 - val_loss: 0.7171 - val_sparse_categorical_accuracy: 0.7662\n",
            "Epoch 18/25\n",
            "1172/1172 [==============================] - 17s 14ms/step - loss: 0.3664 - sparse_categorical_accuracy: 0.8691 - val_loss: 0.7232 - val_sparse_categorical_accuracy: 0.7694\n",
            "Epoch 19/25\n",
            "1172/1172 [==============================] - 18s 15ms/step - loss: 0.3521 - sparse_categorical_accuracy: 0.8733 - val_loss: 0.7566 - val_sparse_categorical_accuracy: 0.7673\n",
            "Epoch 20/25\n",
            "1172/1172 [==============================] - 17s 15ms/step - loss: 0.3324 - sparse_categorical_accuracy: 0.8801 - val_loss: 0.7494 - val_sparse_categorical_accuracy: 0.7724\n",
            "Epoch 21/25\n",
            "1172/1172 [==============================] - 16s 14ms/step - loss: 0.3212 - sparse_categorical_accuracy: 0.8865 - val_loss: 0.7600 - val_sparse_categorical_accuracy: 0.7727\n",
            "Epoch 22/25\n",
            "1172/1172 [==============================] - 16s 14ms/step - loss: 0.3227 - sparse_categorical_accuracy: 0.8839 - val_loss: 0.8175 - val_sparse_categorical_accuracy: 0.7588\n",
            "Epoch 23/25\n",
            "1172/1172 [==============================] - 17s 14ms/step - loss: 0.3081 - sparse_categorical_accuracy: 0.8898 - val_loss: 0.8303 - val_sparse_categorical_accuracy: 0.7554\n",
            "Epoch 24/25\n",
            "1172/1172 [==============================] - 17s 15ms/step - loss: 0.3033 - sparse_categorical_accuracy: 0.8929 - val_loss: 0.7586 - val_sparse_categorical_accuracy: 0.7690\n",
            "Epoch 25/25\n",
            "1172/1172 [==============================] - 17s 15ms/step - loss: 0.2927 - sparse_categorical_accuracy: 0.8961 - val_loss: 0.7724 - val_sparse_categorical_accuracy: 0.7726\n"
          ]
        }
      ]
    },
    {
      "cell_type": "code",
      "source": [
        "test_loss_cnn, test_accuracy_cnn = model_cnn.evaluate(X_test_scaled, y_test)"
      ],
      "metadata": {
        "colab": {
          "base_uri": "https://localhost:8080/"
        },
        "id": "bAr9m-_VW5vC",
        "outputId": "c1f6fef6-96c0-4987-ce9a-2e1a87030837"
      },
      "execution_count": 31,
      "outputs": [
        {
          "output_type": "stream",
          "name": "stdout",
          "text": [
            "313/313 [==============================] - 2s 7ms/step - loss: 0.7767 - sparse_categorical_accuracy: 0.7702\n"
          ]
        }
      ]
    },
    {
      "cell_type": "markdown",
      "source": [
        "# Model Evalution"
      ],
      "metadata": {
        "id": "2DEanrdE_k1S"
      }
    },
    {
      "cell_type": "code",
      "source": [
        "df = pd.DataFrame()"
      ],
      "metadata": {
        "id": "1t6yaVXV_gRF"
      },
      "execution_count": 32,
      "outputs": []
    },
    {
      "cell_type": "code",
      "source": [
        "df['Model Name'] = ['SVM without Kernel', 'SVM With Linear Kernel', 'SVM With Poly Kernel', 'SVM With RBF Kernel', 'Neural Network without CNN', 'Neural Network with CNN']"
      ],
      "metadata": {
        "id": "gzOei1wz_tvQ"
      },
      "execution_count": 33,
      "outputs": []
    },
    {
      "cell_type": "code",
      "source": [
        "df['Test Accuracy'] = [test_acc_svm * 100, test_acc_linear * 100, test_acc_poly * 100, test_acc_rbf * 100, test_accuracy_wo_cnn * 100,  test_accuracy_cnn * 100 ]"
      ],
      "metadata": {
        "id": "pXnDy5zgAiTa"
      },
      "execution_count": 34,
      "outputs": []
    },
    {
      "cell_type": "code",
      "source": [
        "df"
      ],
      "metadata": {
        "colab": {
          "base_uri": "https://localhost:8080/",
          "height": 238
        },
        "id": "jC9_IzcDAk9a",
        "outputId": "783357f5-a87c-4f04-facb-32483129b135"
      },
      "execution_count": 35,
      "outputs": [
        {
          "output_type": "execute_result",
          "data": {
            "text/plain": [
              "                   Model Name  Test Accuracy\n",
              "0          SVM without Kernel      10.000000\n",
              "1      SVM With Linear Kernel      26.090000\n",
              "2        SVM With Poly Kernel      25.560000\n",
              "3         SVM With RBF Kernel      10.000000\n",
              "4  Neural Network without CNN      53.289998\n",
              "5     Neural Network with CNN      77.020001"
            ],
            "text/html": [
              "\n",
              "  <div id=\"df-3acb30a8-7028-4308-87e0-6b2bbc440213\">\n",
              "    <div class=\"colab-df-container\">\n",
              "      <div>\n",
              "<style scoped>\n",
              "    .dataframe tbody tr th:only-of-type {\n",
              "        vertical-align: middle;\n",
              "    }\n",
              "\n",
              "    .dataframe tbody tr th {\n",
              "        vertical-align: top;\n",
              "    }\n",
              "\n",
              "    .dataframe thead th {\n",
              "        text-align: right;\n",
              "    }\n",
              "</style>\n",
              "<table border=\"1\" class=\"dataframe\">\n",
              "  <thead>\n",
              "    <tr style=\"text-align: right;\">\n",
              "      <th></th>\n",
              "      <th>Model Name</th>\n",
              "      <th>Test Accuracy</th>\n",
              "    </tr>\n",
              "  </thead>\n",
              "  <tbody>\n",
              "    <tr>\n",
              "      <th>0</th>\n",
              "      <td>SVM without Kernel</td>\n",
              "      <td>10.000000</td>\n",
              "    </tr>\n",
              "    <tr>\n",
              "      <th>1</th>\n",
              "      <td>SVM With Linear Kernel</td>\n",
              "      <td>26.090000</td>\n",
              "    </tr>\n",
              "    <tr>\n",
              "      <th>2</th>\n",
              "      <td>SVM With Poly Kernel</td>\n",
              "      <td>25.560000</td>\n",
              "    </tr>\n",
              "    <tr>\n",
              "      <th>3</th>\n",
              "      <td>SVM With RBF Kernel</td>\n",
              "      <td>10.000000</td>\n",
              "    </tr>\n",
              "    <tr>\n",
              "      <th>4</th>\n",
              "      <td>Neural Network without CNN</td>\n",
              "      <td>53.289998</td>\n",
              "    </tr>\n",
              "    <tr>\n",
              "      <th>5</th>\n",
              "      <td>Neural Network with CNN</td>\n",
              "      <td>77.020001</td>\n",
              "    </tr>\n",
              "  </tbody>\n",
              "</table>\n",
              "</div>\n",
              "      <button class=\"colab-df-convert\" onclick=\"convertToInteractive('df-3acb30a8-7028-4308-87e0-6b2bbc440213')\"\n",
              "              title=\"Convert this dataframe to an interactive table.\"\n",
              "              style=\"display:none;\">\n",
              "        \n",
              "  <svg xmlns=\"http://www.w3.org/2000/svg\" height=\"24px\"viewBox=\"0 0 24 24\"\n",
              "       width=\"24px\">\n",
              "    <path d=\"M0 0h24v24H0V0z\" fill=\"none\"/>\n",
              "    <path d=\"M18.56 5.44l.94 2.06.94-2.06 2.06-.94-2.06-.94-.94-2.06-.94 2.06-2.06.94zm-11 1L8.5 8.5l.94-2.06 2.06-.94-2.06-.94L8.5 2.5l-.94 2.06-2.06.94zm10 10l.94 2.06.94-2.06 2.06-.94-2.06-.94-.94-2.06-.94 2.06-2.06.94z\"/><path d=\"M17.41 7.96l-1.37-1.37c-.4-.4-.92-.59-1.43-.59-.52 0-1.04.2-1.43.59L10.3 9.45l-7.72 7.72c-.78.78-.78 2.05 0 2.83L4 21.41c.39.39.9.59 1.41.59.51 0 1.02-.2 1.41-.59l7.78-7.78 2.81-2.81c.8-.78.8-2.07 0-2.86zM5.41 20L4 18.59l7.72-7.72 1.47 1.35L5.41 20z\"/>\n",
              "  </svg>\n",
              "      </button>\n",
              "      \n",
              "  <style>\n",
              "    .colab-df-container {\n",
              "      display:flex;\n",
              "      flex-wrap:wrap;\n",
              "      gap: 12px;\n",
              "    }\n",
              "\n",
              "    .colab-df-convert {\n",
              "      background-color: #E8F0FE;\n",
              "      border: none;\n",
              "      border-radius: 50%;\n",
              "      cursor: pointer;\n",
              "      display: none;\n",
              "      fill: #1967D2;\n",
              "      height: 32px;\n",
              "      padding: 0 0 0 0;\n",
              "      width: 32px;\n",
              "    }\n",
              "\n",
              "    .colab-df-convert:hover {\n",
              "      background-color: #E2EBFA;\n",
              "      box-shadow: 0px 1px 2px rgba(60, 64, 67, 0.3), 0px 1px 3px 1px rgba(60, 64, 67, 0.15);\n",
              "      fill: #174EA6;\n",
              "    }\n",
              "\n",
              "    [theme=dark] .colab-df-convert {\n",
              "      background-color: #3B4455;\n",
              "      fill: #D2E3FC;\n",
              "    }\n",
              "\n",
              "    [theme=dark] .colab-df-convert:hover {\n",
              "      background-color: #434B5C;\n",
              "      box-shadow: 0px 1px 3px 1px rgba(0, 0, 0, 0.15);\n",
              "      filter: drop-shadow(0px 1px 2px rgba(0, 0, 0, 0.3));\n",
              "      fill: #FFFFFF;\n",
              "    }\n",
              "  </style>\n",
              "\n",
              "      <script>\n",
              "        const buttonEl =\n",
              "          document.querySelector('#df-3acb30a8-7028-4308-87e0-6b2bbc440213 button.colab-df-convert');\n",
              "        buttonEl.style.display =\n",
              "          google.colab.kernel.accessAllowed ? 'block' : 'none';\n",
              "\n",
              "        async function convertToInteractive(key) {\n",
              "          const element = document.querySelector('#df-3acb30a8-7028-4308-87e0-6b2bbc440213');\n",
              "          const dataTable =\n",
              "            await google.colab.kernel.invokeFunction('convertToInteractive',\n",
              "                                                     [key], {});\n",
              "          if (!dataTable) return;\n",
              "\n",
              "          const docLinkHtml = 'Like what you see? Visit the ' +\n",
              "            '<a target=\"_blank\" href=https://colab.research.google.com/notebooks/data_table.ipynb>data table notebook</a>'\n",
              "            + ' to learn more about interactive tables.';\n",
              "          element.innerHTML = '';\n",
              "          dataTable['output_type'] = 'display_data';\n",
              "          await google.colab.output.renderOutput(dataTable, element);\n",
              "          const docLink = document.createElement('div');\n",
              "          docLink.innerHTML = docLinkHtml;\n",
              "          element.appendChild(docLink);\n",
              "        }\n",
              "      </script>\n",
              "    </div>\n",
              "  </div>\n",
              "  "
            ]
          },
          "metadata": {},
          "execution_count": 35
        }
      ]
    }
  ]
}